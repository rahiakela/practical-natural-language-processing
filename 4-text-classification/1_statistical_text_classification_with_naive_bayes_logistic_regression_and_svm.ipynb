{
  "nbformat": 4,
  "nbformat_minor": 0,
  "metadata": {
    "colab": {
      "name": "1-statistical-text-classification-with-naive-bayes-logistic-regression-and-svm.ipynb",
      "provenance": [],
      "toc_visible": true,
      "authorship_tag": "ABX9TyOBm1g4jm3bJXdkttLrvuCh",
      "include_colab_link": true
    },
    "kernelspec": {
      "name": "python3",
      "display_name": "Python 3"
    }
  },
  "cells": [
    {
      "cell_type": "markdown",
      "metadata": {
        "id": "view-in-github",
        "colab_type": "text"
      },
      "source": [
        "<a href=\"https://colab.research.google.com/github/rahiakela/practical-natural-language-processing/blob/chapter-4-text-classification/1_statistical_text_classification_with_naive_bayes_logistic_regression_and_svm.ipynb\" target=\"_parent\"><img src=\"https://colab.research.google.com/assets/colab-badge.svg\" alt=\"Open In Colab\"/></a>"
      ]
    },
    {
      "cell_type": "markdown",
      "metadata": {
        "id": "JXhAbwo1fneB",
        "colab_type": "text"
      },
      "source": [
        "# Statistical Text Classification with Naive Bayes, Logistic Regression and SVM"
      ]
    },
    {
      "cell_type": "markdown",
      "metadata": {
        "id": "7g6fJrDLf0p5",
        "colab_type": "text"
      },
      "source": [
        "This notebook aims to give you a brief overview of performing text classification using Naive Bayes, Logistic Regression and Support Vector Machines based on statistical techniques. \n",
        "\n",
        "We will be using a dataset called \"Economic news article tone and relevance\" from [Figure-Eight](https://github.com/practical-nlp/practical-nlp/blob/master/Ch4/Data/Full-Economic-News-DFE-839861.csv) which consists of approximately 8000 news articles, which were tagged as relevant or not relevant to the US Economy. \n",
        "\n",
        "The dataset is also imbalanced, with `~1,500` relevant and `~6,500` non-relevant articles, which poses the challenge of guarding against\n",
        "learning a bias toward the majority category (in this case, non-relevant articles). \n",
        "\n",
        "Clearly, learning what a relevant news article is is more challenging with this dataset than learning what is irrelevant. After all, just guessing that everything is irrelevant already gives us 80% accuracy!\n",
        "\n",
        "Our goal in this notebook is to explore the process of training and testing text classifiers for this problem, using this data set and two text classification algorithms: Multinomial Naive Bayes and Logistic Regression, implemented in sklearn.\n",
        "\n",
        "No single approach is known to work universally well on all kinds of data and all classification problems. In the real world, we experiment with multiple approaches, evaluate them, and choose one final approach to deploy in practice.\n",
        "\n"
      ]
    },
    {
      "cell_type": "markdown",
      "metadata": {
        "id": "YbGA4kxIhUeJ",
        "colab_type": "text"
      },
      "source": [
        "## Setup"
      ]
    },
    {
      "cell_type": "code",
      "metadata": {
        "id": "3DPrv0A-hVuP",
        "colab_type": "code",
        "colab": {
          "base_uri": "https://localhost:8080/",
          "height": 72
        },
        "outputId": "d20d8622-3113-4a98-9f63-12a3b398ddbe"
      },
      "source": [
        "import numpy as np\n",
        "import pandas as pd #to work with csv files\n",
        "\n",
        "#matplotlib imports are used to plot confusion matrices for the classifiers\n",
        "import matplotlib as mpl \n",
        "import matplotlib.cm as cm \n",
        "import matplotlib.pyplot as plt \n",
        "\n",
        "#import feature extraction methods from sklearn\n",
        "from sklearn.feature_extraction.text import CountVectorizer\n",
        "from sklearn.feature_extraction import stop_words\n",
        "\n",
        "#pre-processing of text\n",
        "import string\n",
        "import re\n",
        "import itertools\n",
        "\n",
        "#import classifiers from sklearn\n",
        "from sklearn.naive_bayes import MultinomialNB\n",
        "from sklearn.linear_model import LogisticRegression\n",
        "from sklearn.svm import LinearSVC\n",
        "\n",
        "#import different metrics to evaluate the classifiers\n",
        "from sklearn.metrics import accuracy_score\n",
        "from sklearn.model_selection import train_test_split\n",
        "from sklearn.metrics import confusion_matrix \n",
        "from sklearn import metrics\n",
        "\n",
        "#import time function from time module to track the training duration\n",
        "from time import time"
      ],
      "execution_count": 1,
      "outputs": [
        {
          "output_type": "stream",
          "text": [
            "/usr/local/lib/python3.6/dist-packages/sklearn/utils/deprecation.py:144: FutureWarning: The sklearn.feature_extraction.stop_words module is  deprecated in version 0.22 and will be removed in version 0.24. The corresponding classes / functions should instead be imported from sklearn.feature_extraction.text. Anything that cannot be imported from sklearn.feature_extraction.text is now part of the private API.\n",
            "  warnings.warn(message, FutureWarning)\n"
          ],
          "name": "stderr"
        }
      ]
    },
    {
      "cell_type": "markdown",
      "metadata": {
        "id": "eycUByQah1jS",
        "colab_type": "text"
      },
      "source": [
        "### Load and explore the dataset"
      ]
    },
    {
      "cell_type": "code",
      "metadata": {
        "id": "cuiQEilchy9X",
        "colab_type": "code",
        "colab": {
          "base_uri": "https://localhost:8080/",
          "height": 304
        },
        "outputId": "cd93d22e-435d-405b-b182-0b1614bd0027"
      },
      "source": [
        "!wget -P DATAPATH https://raw.githubusercontent.com/practical-nlp/practical-nlp/master/Ch4/Data/Full-Economic-News-DFE-839861.csv\n",
        "!ls -lah DATAPATH"
      ],
      "execution_count": 2,
      "outputs": [
        {
          "output_type": "stream",
          "text": [
            "--2020-09-25 09:30:54--  https://raw.githubusercontent.com/practical-nlp/practical-nlp/master/Ch4/Data/Full-Economic-News-DFE-839861.csv\n",
            "Resolving raw.githubusercontent.com (raw.githubusercontent.com)... 151.101.0.133, 151.101.64.133, 151.101.128.133, ...\n",
            "Connecting to raw.githubusercontent.com (raw.githubusercontent.com)|151.101.0.133|:443... connected.\n",
            "HTTP request sent, awaiting response... 200 OK\n",
            "Length: 12383529 (12M) [text/plain]\n",
            "Saving to: ‘DATAPATH/Full-Economic-News-DFE-839861.csv’\n",
            "\n",
            "Full-Economic-News- 100%[===================>]  11.81M  25.2MB/s    in 0.5s    \n",
            "\n",
            "2020-09-25 09:30:55 (25.2 MB/s) - ‘DATAPATH/Full-Economic-News-DFE-839861.csv’ saved [12383529/12383529]\n",
            "\n",
            "total 12M\n",
            "drwxr-xr-x 2 root root 4.0K Sep 25 09:30 .\n",
            "drwxr-xr-x 1 root root 4.0K Sep 25 09:30 ..\n",
            "-rw-r--r-- 1 root root  12M Sep 25 09:30 Full-Economic-News-DFE-839861.csv\n"
          ],
          "name": "stdout"
        }
      ]
    },
    {
      "cell_type": "code",
      "metadata": {
        "id": "YdnN8T1ZiCgX",
        "colab_type": "code",
        "colab": {
          "base_uri": "https://localhost:8080/",
          "height": 106
        },
        "outputId": "6319e4df-52af-4c27-e8e1-bc356494a2f1"
      },
      "source": [
        "our_data = pd.read_csv(\"DATAPATH/Full-Economic-News-DFE-839861.csv\", encoding=\"ISO-8859-1\")\n",
        "\n",
        "# Number of rows (instances) and columns in the dataset\n",
        "display(our_data.shape)\n",
        "# Class distribution in the dataset\n",
        "our_data['relevance'].value_counts() / our_data.shape[0]"
      ],
      "execution_count": 3,
      "outputs": [
        {
          "output_type": "display_data",
          "data": {
            "text/plain": [
              "(8000, 15)"
            ]
          },
          "metadata": {
            "tags": []
          }
        },
        {
          "output_type": "execute_result",
          "data": {
            "text/plain": [
              "no          0.821375\n",
              "yes         0.177500\n",
              "not sure    0.001125\n",
              "Name: relevance, dtype: float64"
            ]
          },
          "metadata": {
            "tags": []
          },
          "execution_count": 3
        }
      ]
    },
    {
      "cell_type": "markdown",
      "metadata": {
        "id": "lA04nY3ei00u",
        "colab_type": "text"
      },
      "source": [
        "There is an imbalance in the data with not relevant being 82% in the dataset. That is, most of the articles are not relevant to US Economy, which makes sense in a real-world scenario, as news articles discuss various topics. We should keep this class imbalance mind when interpreting the classifier performance later. \n",
        "\n",
        "Let us first convert the class labels into binary outcome variables for convenience. 1 for Yes (relevant), and 0 for No (not relevant), and ignore \"Not sure\"."
      ]
    },
    {
      "cell_type": "code",
      "metadata": {
        "id": "rVhXYG1IiseD",
        "colab_type": "code",
        "colab": {
          "base_uri": "https://localhost:8080/",
          "height": 52
        },
        "outputId": "fa626d28-d6a2-4cd7-e0d6-2c849cf3050f"
      },
      "source": [
        "# convert label to a numerical variable\n",
        "our_data = our_data[our_data.relevance != \"not sure\"]\n",
        "print(our_data.shape)\n",
        "\n",
        "# relevant is 1, not-relevant is 0. \n",
        "our_data['relevance'] = our_data.relevance.map({\"yes\": 1, \"no\": 0})\n",
        "# Let us take only the two columns we need.\n",
        "our_data = our_data[[\"text\", \"relevance\"]]\n",
        "print(our_data.shape)"
      ],
      "execution_count": 4,
      "outputs": [
        {
          "output_type": "stream",
          "text": [
            "(7991, 15)\n",
            "(7991, 2)\n"
          ],
          "name": "stdout"
        }
      ]
    },
    {
      "cell_type": "markdown",
      "metadata": {
        "id": "YYvEdYOdkHmx",
        "colab_type": "text"
      },
      "source": [
        "### Text Pre-processing"
      ]
    },
    {
      "cell_type": "markdown",
      "metadata": {
        "id": "DikQGGn_kRjB",
        "colab_type": "text"
      },
      "source": [
        "Typical steps involve tokenization, lower casing, removing, stop words, punctuation markers etc, and vectorization. Other processes such as stemming/lemmatization can also be performed. \n",
        "\n",
        "Here, we are performing the following steps: removing br tags, punctuation, numbers, and stopwords. While we are using sklearn's list of stopwords, there are several other stop word lists (e.g., from NLTK) or sometimes, custom stopword lists are needed depending on the task."
      ]
    },
    {
      "cell_type": "code",
      "metadata": {
        "id": "R19Ngsqjjzg1",
        "colab_type": "code",
        "colab": {}
      },
      "source": [
        "stopwords = stop_words.ENGLISH_STOP_WORDS\n",
        "\n",
        "def clean(doc):\n",
        "  doc = doc.replace(\"</br>\", \" \")   # This text contains a lot of <br/> tags.\n",
        "  # remove punctuation and numbers\n",
        "  doc = \"\".join([char for char in doc if char not in string.punctuation and not char.isdigit()])\n",
        "  doc = \" \".join([token for token in doc.split() if token not in stopwords])\n",
        "\n",
        "  return doc"
      ],
      "execution_count": 5,
      "outputs": []
    },
    {
      "cell_type": "markdown",
      "metadata": {
        "id": "Xg0_Fp0zlqzl",
        "colab_type": "text"
      },
      "source": [
        "## Naive Bayes Classifier"
      ]
    },
    {
      "cell_type": "markdown",
      "metadata": {
        "id": "DMe4qrpJlrvK",
        "colab_type": "text"
      },
      "source": [
        "Naive Bayes is a probabilistic classifier that uses Bayes’ theorem to classify texts based on the evidence seen in training data. It estimates the conditional probability of each feature of a given text for each class based on the occurrence of that feature in that class and multiplies the probabilities of all the features of a given text to compute the final probability of classification for each class. \n",
        "\n",
        "Finally, it chooses the class with maximum probability. \n",
        "\n",
        "Although simple, Naive Bayes is commonly used as a baseline algorithm\n",
        "in classification experiments.\n",
        "\n",
        "Once the dataset is loaded, we split the data into train and test data."
      ]
    },
    {
      "cell_type": "code",
      "metadata": {
        "id": "WjEGaFy5lRvS",
        "colab_type": "code",
        "colab": {
          "base_uri": "https://localhost:8080/",
          "height": 70
        },
        "outputId": "3525248d-2a74-4512-ade9-9b2b9213cc4c"
      },
      "source": [
        "# Step 1: train-test split\n",
        "X = our_data.text       # the column text contains textual data to extract features from\n",
        "y = our_data.relevance  # this is the column we are learning to predict.\n",
        "print(X.shape, y.shape)\n",
        "\n",
        "# split X and y into training and testing sets. By default, it splits 75% training and 25% test random_state=1 for reproducibility\n",
        "X_train, X_test, y_train, y_test = train_test_split(X, y, random_state=1)\n",
        "print(X_train.shape, y_train.shape)\n",
        "print(X_test.shape, y_test.shape)"
      ],
      "execution_count": 6,
      "outputs": [
        {
          "output_type": "stream",
          "text": [
            "(7991,) (7991,)\n",
            "(5993,) (5993,)\n",
            "(1998,) (1998,)\n"
          ],
          "name": "stdout"
        }
      ]
    },
    {
      "cell_type": "markdown",
      "metadata": {
        "id": "XnnZb0qenHl5",
        "colab_type": "text"
      },
      "source": [
        "The next step is to pre-process the texts and then convert them into feature vectors. While there are many different ways to do the pre-processing.\n",
        "\n",
        "Let’s say we want to do the following: lowercasing and removal of punctuation, digits and any custom strings, and stop words."
      ]
    },
    {
      "cell_type": "code",
      "metadata": {
        "id": "DyFvtDW_m1ew",
        "colab_type": "code",
        "colab": {
          "base_uri": "https://localhost:8080/",
          "height": 35
        },
        "outputId": "98c4390b-e50a-4437-d621-8a7014cdc0a6"
      },
      "source": [
        "# Step 2-3: Pre-process and Vectorize train and test data\n",
        "vect = CountVectorizer(preprocessor=clean)        # instantiate a vectoriezer\n",
        "X_train_dtm = vect.fit_transform(X_train)         # use it to extract features from training data\n",
        "\n",
        "# transform testing data (using training data's features)\n",
        "X_test_dtm = vect.transform(X_test)\n",
        "\n",
        "# the dimension of our feature vector is 49753!\n",
        "print(X_train_dtm.shape, X_test_dtm.shape)"
      ],
      "execution_count": 7,
      "outputs": [
        {
          "output_type": "stream",
          "text": [
            "(5993, 49753) (1998, 49753)\n"
          ],
          "name": "stdout"
        }
      ]
    },
    {
      "cell_type": "markdown",
      "metadata": {
        "id": "iFnUiqfgoNu6",
        "colab_type": "text"
      },
      "source": [
        "We’ll see that we ended up having a feature vector with over 45,000 features! We now have the data in a format we want: **feature vectors**.\n",
        "\n",
        "So, the next step is to train and evaluate a Naive Bayes classifier with the features we extracted above."
      ]
    },
    {
      "cell_type": "code",
      "metadata": {
        "id": "PXd67Docn0XR",
        "colab_type": "code",
        "colab": {
          "base_uri": "https://localhost:8080/",
          "height": 52
        },
        "outputId": "faefc063-4f0e-4351-d336-24e4ce076a23"
      },
      "source": [
        "# Step 3: Train the classifier and predict for test data\n",
        "nb = MultinomialNB()     # instantiate a Multinomial Naive Bayes model\n",
        "\n",
        "# train the model(timing it with an IPython \"magic command\")\n",
        "%time nb.fit(X_train_dtm, y_train)\n",
        "\n",
        "# make class predictions for X_test_dtm\n",
        "y_pred_class = nb.predict(X_test_dtm)"
      ],
      "execution_count": 8,
      "outputs": [
        {
          "output_type": "stream",
          "text": [
            "CPU times: user 9.92 ms, sys: 3 ms, total: 12.9 ms\n",
            "Wall time: 13.7 ms\n"
          ],
          "name": "stdout"
        }
      ]
    },
    {
      "cell_type": "code",
      "metadata": {
        "id": "I3pExoe_o-iJ",
        "colab_type": "code",
        "colab": {}
      },
      "source": [
        "# Step 4: Evaluate the classifier using various measures\n",
        "\n",
        "def plot_confusion_matrix(cm, classes, normalize=False, title=\"Confusion matrix\", cmap=plt.cm.Blues):\n",
        "  \"\"\"\n",
        "  This function prints and plots the confusion matrix.\n",
        "  Normalization can be applied by setting `normalize=True`.\n",
        "  \"\"\"\n",
        "  if normalize:\n",
        "    cm = cm.astype(\"float\") / cm.sum(axis=1)[:, np.newaxis]\n",
        "  \n",
        "  plt.imshow(cm, interpolation='nearest', cmap=cmap)\n",
        "  plt.title(title)\n",
        "  plt.colorbar()\n",
        "  tick_marks = np.arange(len(classes))\n",
        "  plt.xticks(tick_marks, classes, rotation=45)\n",
        "  plt.yticks(tick_marks, classes)\n",
        "\n",
        "  fmt = '.2f' if normalize else 'd'\n",
        "  thresh = cm.max() / 2.\n",
        "  for i, j in itertools.product(range(cm.shape[0]), range(cm.shape[1])):\n",
        "    plt.text(j, i, format(cm[i, j], fmt), horizontalalignment=\"center\", color=\"white\" if cm[i, j] > thresh else \"black\")\n",
        "\n",
        "  plt.tight_layout()\n",
        "  plt.ylabel('True label',fontsize=15)\n",
        "  plt.xlabel('Predicted label',fontsize=15)"
      ],
      "execution_count": 9,
      "outputs": []
    },
    {
      "cell_type": "code",
      "metadata": {
        "id": "WEt0BlpKtsG7",
        "colab_type": "code",
        "colab": {
          "base_uri": "https://localhost:8080/",
          "height": 35
        },
        "outputId": "b4c6759d-3a1a-4e21-960e-84da9298f42d"
      },
      "source": [
        "# Print accuracy:\n",
        "print(\"Accuracy: \", metrics.accuracy_score(y_test, y_pred_class))"
      ],
      "execution_count": 10,
      "outputs": [
        {
          "output_type": "stream",
          "text": [
            "Accuracy:  0.7822822822822822\n"
          ],
          "name": "stdout"
        }
      ]
    },
    {
      "cell_type": "code",
      "metadata": {
        "id": "NBcTgbglt1gH",
        "colab_type": "code",
        "colab": {
          "base_uri": "https://localhost:8080/",
          "height": 460
        },
        "outputId": "75e1c896-4e2b-4bcd-8d95-ee73f34e98db"
      },
      "source": [
        "# print the confusion matrix\n",
        "cnf_matrix = confusion_matrix(y_test, y_pred_class)\n",
        "plt.figure(figsize=(8, 6))\n",
        "plot_confusion_matrix(cnf_matrix, classes=['Not Relevant','Relevant'], normalize=True, title=\"Confusion matrix with all features\")"
      ],
      "execution_count": 11,
      "outputs": [
        {
          "output_type": "display_data",
          "data": {
            "image/png": "[encoded data removed]",
            "text/plain": [
              "<Figure size 576x432 with 2 Axes>"
            ]
          },
          "metadata": {
            "tags": [],
            "needs_background": "light"
          }
        }
      ]
    },
    {
      "cell_type": "markdown",
      "metadata": {
        "id": "uh_jxxRqufn8",
        "colab_type": "text"
      },
      "source": [
        "The classifier is doing fairly well with identifying the nonrelevant\n",
        "articles correctly, only making errors 14% of the time. However, it does not perform well in comparison to the second category: relevance. The category is identified correctly only 42% of the time."
      ]
    },
    {
      "cell_type": "code",
      "metadata": {
        "id": "J9LQrtZ7uVC0",
        "colab_type": "code",
        "colab": {
          "base_uri": "https://localhost:8080/",
          "height": 35
        },
        "outputId": "612ab816-8549-4e9e-bda3-c5df1bfdacd7"
      },
      "source": [
        "# calculate AUC: Area under the curve(AUC) gives idea about the model efficiency:\n",
        "y_pred_prob = nb.predict_proba(X_test_dtm)[:, 1]\n",
        "print(\"ROC_AOC_Score: \", metrics.roc_auc_score(y_test, y_pred_prob))"
      ],
      "execution_count": 12,
      "outputs": [
        {
          "output_type": "stream",
          "text": [
            "ROC_AOC_Score:  0.7251117679464362\n"
          ],
          "name": "stdout"
        }
      ]
    },
    {
      "cell_type": "markdown",
      "metadata": {
        "id": "d6dXTf4qvRkR",
        "colab_type": "text"
      },
      "source": [
        "An obvious thought may be to collect more data. This is correct and often the most rewarding approach. But in the interest of covering other approaches, we assume that we cannot change it or collect additional data. This is not a far-fetched assumption—in industry, we often don’t have the luxury of collecting more data; we have to work with what we have.\n",
        "\n",
        "At this point, we can notice that the classifier is doing poorly with identifying relevant articles, while it is doing well with non-relevant ones. Our large feature vector could be creating a lot of noise in the form of very rarely occurring features that are not useful for learning.\n",
        "\n",
        "Let’s see how to improve our classification performance by addressing some of the possible reasons for it. One approach is to reduce noise in the feature vectors.\n",
        "\n",
        "**A large number of features introduce sparsity; i.e., most of the features in the feature vector are zero, and only a few values are non-zero. This, in turn, affects the ability of the text classification algorithm to learn.**\n",
        "\n",
        "Let’s see what happens if we restrict this to 5,000 and rerun the training and evaluation process. This requires us to change the CountVectorizer instantiation in the process."
      ]
    },
    {
      "cell_type": "code",
      "metadata": {
        "id": "VChXyNYxvMvy",
        "colab_type": "code",
        "colab": {
          "base_uri": "https://localhost:8080/",
          "height": 513
        },
        "outputId": "41312b5b-4ec7-4898-f6cb-4abca9a5c195"
      },
      "source": [
        "vect = CountVectorizer(preprocessor=clean, max_features=5000)\n",
        "X_train_dtm = vect.fit_transform(X_train)\n",
        "X_test_dtm = vect.transform(X_test)\n",
        "\n",
        "# instantiate a Multinomial Naive Bayes model\n",
        "nb = MultinomialNB()\n",
        "# train the model(timing it with an IPython \"magic command\")\n",
        "%time nb.fit(X_train_dtm, y_train)\n",
        "\n",
        "# make class predictions for X_test_dtm\n",
        "y_pred_class = nb.predict(X_test_dtm)\n",
        "\n",
        "# Print accuracy\n",
        "print(\"Accuracy: \", metrics.accuracy_score(y_test, y_pred_class))\n",
        "\n",
        "# print the confusion matrix\n",
        "cnf_matrix = confusion_matrix(y_test, y_pred_class)\n",
        "plt.figure(figsize=(8, 6))\n",
        "plot_confusion_matrix(cnf_matrix, classes=['Not Relevant','Relevant'], normalize=True, title=\"Confusion matrix with max 5000 features\")"
      ],
      "execution_count": 13,
      "outputs": [
        {
          "output_type": "stream",
          "text": [
            "CPU times: user 5.31 ms, sys: 0 ns, total: 5.31 ms\n",
            "Wall time: 5.32 ms\n",
            "Accuracy:  0.6876876876876877\n"
          ],
          "name": "stdout"
        },
        {
          "output_type": "display_data",
          "data": {
            "image/png": "[encoded data removed]",
            "text/plain": [
              "<Figure size 576x432 with 2 Axes>"
            ]
          },
          "metadata": {
            "tags": [],
            "needs_background": "light"
          }
        }
      ]
    },
    {
      "cell_type": "markdown",
      "metadata": {
        "id": "4VLvEOAExy04",
        "colab_type": "text"
      },
      "source": [
        "Now, clearly, while the average performance seems lower than before, the correct identification of relevant articles increased by over 20%. \n",
        "\n",
        "At that point, one may wonder whether this is what we want. The answer to that question depends on the problem we’re trying to solve. \n",
        "\n",
        "If we care about doing reasonably well with non-relevant article identification and doing as well as possible with relevant article identification, or doing equally well with both, we could conclude that reducing the feature vector size with the Naive Bayes classifier was useful for this dataset."
      ]
    },
    {
      "cell_type": "markdown",
      "metadata": {
        "id": "yLqEUaobyJdv",
        "colab_type": "text"
      },
      "source": [
        "## Logistic Regression"
      ]
    },
    {
      "cell_type": "markdown",
      "metadata": {
        "id": "ZTSjBiUByKgs",
        "colab_type": "text"
      },
      "source": [
        "When we described the Naive Bayes classifier, we mentioned that it learns the probability of a text for each class and chooses the one with maximum probability. Such a classifier is called a generative classifier. \n",
        "\n",
        "In contrast, there’s a discriminative classifier that aims to learn the probability distribution over all classes. Logistic regression is an\n",
        "example of a discriminative classifier and is commonly used in text classification, as a baseline in research, and as an MVP in real-world industry scenarios.\n",
        "\n",
        "Unlike Naive Bayes, which estimates probabilities based on feature occurrence in classes, logistic regression “learns” the weights for individual features based on how important they are to make a classification decision. The goal of logistic regression is to learn a linear separator between classes in the training data with the aim of maximizing the probability of the data. This “learning” of feature weights and probability distribution over all classes is done through a function called “logistic” function.\n",
        "\n",
        "Let’s take the 5,000-dimensional feature vector from the last step of the Naive Bayes example and train a logistic regression classifier instead of Naive Bayes."
      ]
    },
    {
      "cell_type": "code",
      "metadata": {
        "id": "lcEDV_c9xddr",
        "colab_type": "code",
        "colab": {}
      },
      "source": [
        "from sklearn.linear_model import LogisticRegression"
      ],
      "execution_count": 14,
      "outputs": []
    },
    {
      "cell_type": "code",
      "metadata": {
        "id": "48Md1_6xqQtw",
        "colab_type": "code",
        "colab": {
          "base_uri": "https://localhost:8080/",
          "height": 658
        },
        "outputId": "39159980-f77e-4d03-d4d3-3cd8fbf3f3cd"
      },
      "source": [
        "# instantiate a logistic regression model\n",
        "logreg = LogisticRegression(class_weight=\"balanced\")\n",
        "# fit the model with training data\n",
        "logreg.fit(X_train_dtm, y_train)\n",
        "\n",
        "# Make predictions on test data\n",
        "y_pred_class = logreg.predict(X_test_dtm)\n",
        "\n",
        "# calculate evaluation measures\n",
        "print(\"Accuracy: \", metrics.accuracy_score(y_test, y_pred_class))\n",
        "print(\"AUC: \", metrics.roc_auc_score(y_test, y_pred_prob))\n",
        "\n",
        "cnf_matrix = confusion_matrix(y_test, y_pred_class)\n",
        "plt.figure(figsize=(8, 6))\n",
        "plot_confusion_matrix(cnf_matrix, classes=['Not Relevant','Relevant'], normalize=True, title=\"Confusion matrix with normalization\")"
      ],
      "execution_count": 18,
      "outputs": [
        {
          "output_type": "stream",
          "text": [
            "/usr/local/lib/python3.6/dist-packages/sklearn/linear_model/_logistic.py:940: ConvergenceWarning: lbfgs failed to converge (status=1):\n",
            "STOP: TOTAL NO. of ITERATIONS REACHED LIMIT.\n",
            "\n",
            "Increase the number of iterations (max_iter) or scale the data as shown in:\n",
            "    https://scikit-learn.org/stable/modules/preprocessing.html\n",
            "Please also refer to the documentation for alternative solver options:\n",
            "    https://scikit-learn.org/stable/modules/linear_model.html#logistic-regression\n",
            "  extra_warning_msg=_LOGISTIC_SOLVER_CONVERGENCE_MSG)\n"
          ],
          "name": "stderr"
        },
        {
          "output_type": "stream",
          "text": [
            "Accuracy:  0.7362362362362362\n",
            "AUC:  0.7251117679464362\n"
          ],
          "name": "stdout"
        },
        {
          "output_type": "display_data",
          "data": {
            "image/png": "[encoded data removed]",
            "text/plain": [
              "<Figure size 576x432 with 2 Axes>"
            ]
          },
          "metadata": {
            "tags": [],
            "needs_background": "light"
          }
        }
      ]
    },
    {
      "cell_type": "markdown",
      "metadata": {
        "id": "ity7I3Qdr-TZ",
        "colab_type": "text"
      },
      "source": [
        "Our logistic regression classifier instantiation has an argument class_weight, which is given a value “balanced”. This tells the classifier to boost the weights for classes in inverse proportion to the number of samples for that class. So, we expect to see better performance for the less-represented classes.\n",
        "\n",
        "We can experiment with this code by removing that argument and retraining the classifier, to witness a fall (by approximately 5%) in the bottom-right cell of the confusion matrix. "
      ]
    },
    {
      "cell_type": "code",
      "metadata": {
        "id": "JCYx5KgsraPd",
        "colab_type": "code",
        "colab": {
          "base_uri": "https://localhost:8080/",
          "height": 658
        },
        "outputId": "0dd85521-8ed4-474c-c663-94157b11c6fe"
      },
      "source": [
        "# instantiate a logistic regression model\n",
        "logreg = LogisticRegression()\n",
        "# fit the model with training data\n",
        "logreg.fit(X_train_dtm, y_train)\n",
        "\n",
        "# Make predictions on test data\n",
        "y_pred_class = logreg.predict(X_test_dtm)\n",
        "\n",
        "# calculate evaluation measures\n",
        "print(\"Accuracy: \", metrics.accuracy_score(y_test, y_pred_class))\n",
        "print(\"AUC: \", metrics.roc_auc_score(y_test, y_pred_prob))\n",
        "\n",
        "cnf_matrix = confusion_matrix(y_test, y_pred_class)\n",
        "plt.figure(figsize=(8, 6))\n",
        "plot_confusion_matrix(cnf_matrix, classes=['Not Relevant','Relevant'], normalize=True, title=\"Confusion matrix with normalization\")"
      ],
      "execution_count": 19,
      "outputs": [
        {
          "output_type": "stream",
          "text": [
            "/usr/local/lib/python3.6/dist-packages/sklearn/linear_model/_logistic.py:940: ConvergenceWarning: lbfgs failed to converge (status=1):\n",
            "STOP: TOTAL NO. of ITERATIONS REACHED LIMIT.\n",
            "\n",
            "Increase the number of iterations (max_iter) or scale the data as shown in:\n",
            "    https://scikit-learn.org/stable/modules/preprocessing.html\n",
            "Please also refer to the documentation for alternative solver options:\n",
            "    https://scikit-learn.org/stable/modules/linear_model.html#logistic-regression\n",
            "  extra_warning_msg=_LOGISTIC_SOLVER_CONVERGENCE_MSG)\n"
          ],
          "name": "stderr"
        },
        {
          "output_type": "stream",
          "text": [
            "Accuracy:  0.7682682682682682\n",
            "AUC:  0.7251117679464362\n"
          ],
          "name": "stdout"
        },
        {
          "output_type": "display_data",
          "data": {
            "image/png": "[encoded data removed]",
            "text/plain": [
              "<Figure size 576x432 with 2 Axes>"
            ]
          },
          "metadata": {
            "tags": [],
            "needs_background": "light"
          }
        }
      ]
    },
    {
      "cell_type": "markdown",
      "metadata": {
        "id": "OS3lvG4hsT5y",
        "colab_type": "text"
      },
      "source": [
        "However, logistic regression clearly seems to perform worse than Naive Bayes for this dataset.\n",
        "\n",
        "**Perhaps we need a better learning algorithm.** This gives rise to the question: “What is a better learning algorithm?” **A general rule of thumb\n",
        "when working with ML approaches is that there is no one algorithm that learns well on all datasets**. A common approach is to experiment with various algorithms and compare them."
      ]
    },
    {
      "cell_type": "markdown",
      "metadata": {
        "id": "bElq5YWPs07k",
        "colab_type": "text"
      },
      "source": [
        "## Support Vector Machine"
      ]
    },
    {
      "cell_type": "markdown",
      "metadata": {
        "id": "CSvJEdlEs2AK",
        "colab_type": "text"
      },
      "source": [
        "A support vector machine (SVM), first invented in the early 1960s, is a discriminative classifier like logistic regression. However, unlike logistic regression, it aims to look for an optimal hyperplane in a higher dimensional space, which can separate the classes in the data by a maximum possible margin. Further, SVMs are capable of learning even non-linear separations between classes, unlike logistic regression. However, they may\n",
        "also take longer to train.\n",
        "\n",
        "Let’s see how SVM is used by keeping everything else the same and altering maximum features to 1,000 instead of the previous example’s 5,000. We restrict to 1,000 features, keeping in mind the time an SVM algorithm takes to train."
      ]
    },
    {
      "cell_type": "code",
      "metadata": {
        "id": "BixGxg6hsNSp",
        "colab_type": "code",
        "colab": {}
      },
      "source": [
        "from sklearn.svm import LinearSVC"
      ],
      "execution_count": 20,
      "outputs": []
    },
    {
      "cell_type": "code",
      "metadata": {
        "id": "A8kzzCt9s8w2",
        "colab_type": "code",
        "colab": {
          "base_uri": "https://localhost:8080/",
          "height": 551
        },
        "outputId": "e17871a2-1dd4-42c5-a387-258f6d8bab5a"
      },
      "source": [
        "vect = CountVectorizer(preprocessor=clean, max_features=1000)\n",
        "X_train_dtm = vect.fit_transform(X_train)\n",
        "X_test_dtm = vect.transform(X_test)\n",
        "\n",
        "# instantiate a SVM model\n",
        "classifier = LinearSVC(class_weight=\"balanced\")\n",
        "# fit the model with training data\n",
        "classifier.fit(X_train_dtm, y_train)\n",
        "\n",
        "# Make predictions on test data\n",
        "y_pred_class = classifier.predict(X_test_dtm)\n",
        "\n",
        "# calculate evaluation measures\n",
        "print(\"Accuracy: \", metrics.accuracy_score(y_test, y_pred_class))\n",
        "print(\"AUC: \", metrics.roc_auc_score(y_test, y_pred_prob))\n",
        "\n",
        "cnf_matrix = confusion_matrix(y_test, y_pred_class)\n",
        "plt.figure(figsize=(8, 6))\n",
        "plot_confusion_matrix(cnf_matrix, classes=['Not Relevant','Relevant'], normalize=True, title=\"Confusion matrix with normalization\")"
      ],
      "execution_count": 22,
      "outputs": [
        {
          "output_type": "stream",
          "text": [
            "/usr/local/lib/python3.6/dist-packages/sklearn/svm/_base.py:947: ConvergenceWarning: Liblinear failed to converge, increase the number of iterations.\n",
            "  \"the number of iterations.\", ConvergenceWarning)\n"
          ],
          "name": "stderr"
        },
        {
          "output_type": "stream",
          "text": [
            "Accuracy:  0.6871871871871872\n",
            "AUC:  0.7251117679464362\n"
          ],
          "name": "stdout"
        },
        {
          "output_type": "display_data",
          "data": {
            "image/png": "[encoded data removed]",
            "text/plain": [
              "<Figure size 576x432 with 2 Axes>"
            ]
          },
          "metadata": {
            "tags": [],
            "needs_background": "light"
          }
        }
      ]
    },
    {
      "cell_type": "markdown",
      "metadata": {
        "id": "pK83KQ28ut1D",
        "colab_type": "text"
      },
      "source": [
        "When compared to logistic regression, SVMs seem to have done better with the relevant articles category, although, among this small set of experiments we did, Naive Bayes, with the smaller set of features, seems to be the best classifier for this dataset.\n",
        "\n",
        "A real-world text classification project involves exploring multiple\n",
        "options like this, starting with the simplest approach in terms of modeling, deployment, and scaling, and gradually increasing the complexity.\n",
        "\n",
        "Our eventual goal is to build the classifier that best meets our business needs given all the other constraints.\n",
        "\n",
        "Let’s now consider **a better feature representation**. So far in this notebook, we’ve used BoW features that based on statistical approches. \n",
        "\n",
        "Let’s see how we can use other feature representation techniques for text classification."
      ]
    }
  ]
}