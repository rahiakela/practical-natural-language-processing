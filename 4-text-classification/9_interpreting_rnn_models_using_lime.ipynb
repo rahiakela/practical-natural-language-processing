{
  "nbformat": 4,
  "nbformat_minor": 0,
  "metadata": {
    "colab": {
      "name": "9-interpreting-rnn-models-using-lime.ipynb",
      "provenance": [],
      "toc_visible": true,
      "authorship_tag": "ABX9TyOea6PeCarQNklzq9TlTHCn",
      "include_colab_link": true
    },
    "kernelspec": {
      "name": "python3",
      "display_name": "Python 3"
    }
  },
  "cells": [
    {
      "cell_type": "markdown",
      "metadata": {
        "id": "view-in-github",
        "colab_type": "text"
      },
      "source": [
        "<a href=\"https://colab.research.google.com/github/rahiakela/practical-natural-language-processing/blob/chapter-4-text-classification/9_interpreting_rnn_models_using_lime.ipynb\" target=\"_parent\"><img src=\"https://colab.research.google.com/assets/colab-badge.svg\" alt=\"Open In Colab\"/></a>"
      ]
    },
    {
      "cell_type": "markdown",
      "metadata": {
        "id": "w7wFeuAbyW6V"
      },
      "source": [
        "# Interpreting RNN Models using Lime"
      ]
    },
    {
      "cell_type": "markdown",
      "metadata": {
        "id": "7ojKmuGvyp6N"
      },
      "source": [
        "Consider a scenario where we developed a classifier that identifies abusive comments on a discussion forum website. The classifier identifies comments that are objectionable/abusive and performs the job of a human moderator by either deleting them or making them invisible to users. We know that classifiers aren’t perfect and can make errors. \n",
        "\n",
        "**What if the commenter questions this moderation decision and asks for an\n",
        "explanation?**\n",
        "\n",
        "Some method to “explain” the classification decision by pointing to which feature’s presence prompted such a decision can be useful in such cases. Such a\n",
        "method is also useful to provide some insights into the model and how it may perform on real-world data (instead of train/test sets), which may result in better, more reliable models in the future.\n",
        "\n",
        "[Lime](https://github.com/marcotcr/lime) is one such tool that attempts to interpret a black-box classification model by approximating it with a linear model locally around a given training instance. The advantage of this is that such a linear model is expressed as a weighted sum of its features and is easy to interpret for humans. For example, if there are two features, `f1` and `f2`, for a given test instance of a binary classifier with classes A and B, a Lime linear model around this instance could be something like `-0.3 × f1 + 0.4 × f2` with a prediction B. This indicates that the presence of feature f1 will negatively affect this prediction (by 0.3) and skew it toward A.\n",
        "\n",
        "Let’s now look at how [Lime](https://github.com/marcotcr/lime) can be used to understand the predictions of a text classifier."
      ]
    },
    {
      "cell_type": "markdown",
      "metadata": {
        "id": "eEjrheqDz7hb"
      },
      "source": [
        "## Setup"
      ]
    },
    {
      "cell_type": "markdown",
      "metadata": {
        "id": "kclmx92Yz8xq"
      },
      "source": [
        "In this notebook we will demonstrate how to interpret a Deep Learning Model using [LIME](https://github.com/marcotcr/lime)(local interpretable model-agnostic explanations), a python package for explaining machine learning classifiers. "
      ]
    },
    {
      "cell_type": "code",
      "metadata": {
        "id": "XHBlWP2N0uL-"
      },
      "source": [
        "%%shell\n",
        "\n",
        "pip install lime"
      ],
      "execution_count": null,
      "outputs": []
    },
    {
      "cell_type": "code",
      "metadata": {
        "id": "Ir-uTg9Wzq4e"
      },
      "source": [
        "import tensorflow as tf\n",
        "from tensorflow import keras\n",
        "\n",
        "import sys\n",
        "import numpy as np\n",
        "from keras.preprocessing.text import Tokenizer\n",
        "from keras.preprocessing.sequence import pad_sequences\n",
        "from keras.utils import to_categorical\n",
        "from keras.layers import Dense, Input, GlobalMaxPooling1D\n",
        "from keras.layers import Conv1D, MaxPooling1D, Embedding, LSTM\n",
        "from keras.models import Model, Sequential\n",
        "from keras.initializers import Constant\n",
        "\n",
        "from keras.preprocessing.text import Tokenizer\n",
        "from keras.preprocessing.sequence import pad_sequences\n",
        "from sklearn.pipeline import TransformerMixin\n",
        "from sklearn.base import BaseEstimator\n",
        "\n",
        "from keras.models import Sequential\n",
        "from keras.layers import Dense, Embedding, Bidirectional, LSTM\n",
        "from keras.wrappers.scikit_learn import KerasClassifier\n",
        "from sklearn.pipeline import make_pipeline\n",
        "from sklearn.metrics import accuracy_score\n",
        "\n",
        "import matplotlib.pyplot as plt\n",
        "import seaborn as sns\n",
        "%matplotlib inline\n",
        "\n",
        "from collections import OrderedDict\n",
        "from lime.lime_text import LimeTextExplainer\n",
        "\n",
        "import pandas as pd #to work with csv files\n",
        "\n",
        "#pre-processing of text\n",
        "import string\n",
        "import re\n",
        "import os\n",
        "\n",
        "\n",
        "import warnings\n",
        "warnings.filterwarnings(\"ignore\")"
      ],
      "execution_count": 17,
      "outputs": []
    },
    {
      "cell_type": "markdown",
      "metadata": {
        "id": "D_ie-pOt2Oms"
      },
      "source": [
        "## Part 1: Training and evaluating LSTM text classifier"
      ]
    },
    {
      "cell_type": "markdown",
      "metadata": {
        "id": "f6mA3gQj2Rlh"
      },
      "source": [
        "We will be building an LSTM model with an embedding layer trained on the fly. We will be following all the preprocessing steps as in the [Deep Learning for Text Classification](https://github.com/rahiakela/practical-natural-language-processing/blob/chapter-4-text-classification/5_deep_learning_for_text_classification.ipynb) notebook in this repo.\n"
      ]
    },
    {
      "cell_type": "code",
      "metadata": {
        "id": "CGQfobth0fiZ"
      },
      "source": [
        "#helper functions to lead the data\n",
        "def load_directory_data(directory):\n",
        "  data = {}\n",
        "  data[\"sentence\"] = []\n",
        "  data[\"sentiment\"] = []\n",
        "  for file_path in os.listdir(directory):\n",
        "    with tf.io.gfile.GFile(os.path.join(directory, file_path), \"r\") as f:\n",
        "      data[\"sentence\"].append(f.read())\n",
        "      data[\"sentiment\"].append(re.match(\"\\d+_(\\d+)\\.txt\", file_path).group(1))\n",
        "  return pd.DataFrame.from_dict(data)\n",
        "\n",
        "# Merge positive and negative examples, add a polarity column and shuffle.\n",
        "def load_dataset(directory):\n",
        "  pos_df = load_directory_data(os.path.join(directory, \"pos\"))\n",
        "  neg_df = load_directory_data(os.path.join(directory, \"neg\"))\n",
        "  pos_df[\"polarity\"] = 1\n",
        "  neg_df[\"polarity\"] = 0\n",
        "  return pd.concat([pos_df, neg_df]).sample(frac=1).reset_index(drop=True)\n",
        "\n",
        "def download_and_load_datasets(force_download=False):\n",
        "  dataset = tf.keras.utils.get_file(\n",
        "      fname=\"aclImdb.tar.gz\", \n",
        "      origin=\"http://ai.stanford.edu/~amaas/data/sentiment/aclImdb_v1.tar.gz\", \n",
        "      extract=True)\n",
        "  \n",
        "  train_df = load_dataset(os.path.join(os.path.dirname(dataset), \n",
        "                                       \"aclImdb\", \"train\"))\n",
        "  test_df = load_dataset(os.path.join(os.path.dirname(dataset), \n",
        "                                      \"aclImdb\", \"test\"))\n",
        "  \n",
        "  return train_df, test_df\n",
        "\n",
        "train,test = download_and_load_datasets()"
      ],
      "execution_count": 4,
      "outputs": []
    },
    {
      "cell_type": "code",
      "metadata": {
        "id": "_fh14YkN3PXQ"
      },
      "source": [
        "MAX_SEQUENCE_LENGTH = 1000\n",
        "MAX_NUM_WORDS = 20000 \n",
        "EMBEDDING_DIM = 100 \n",
        "VALIDATION_SPLIT = 0.2\n",
        "\n",
        "vocab_size = 20000  # Max number of different word, i.e. model input dimension\n",
        "maxlen = 1000 # Max number of words kept at the end of each text"
      ],
      "execution_count": 5,
      "outputs": []
    },
    {
      "cell_type": "code",
      "metadata": {
        "colab": {
          "base_uri": "https://localhost:8080/"
        },
        "id": "_MoWfHPJ3wuN",
        "outputId": "5f006733-33a5-4212-bac7-a634ca2c48af"
      },
      "source": [
        "train.columns"
      ],
      "execution_count": 6,
      "outputs": [
        {
          "output_type": "execute_result",
          "data": {
            "text/plain": [
              "Index(['sentence', 'sentiment', 'polarity'], dtype='object')"
            ]
          },
          "metadata": {
            "tags": []
          },
          "execution_count": 6
        }
      ]
    },
    {
      "cell_type": "code",
      "metadata": {
        "id": "Ii6PQyxa4h-U"
      },
      "source": [
        "train_texts = train['sentence'].values\n",
        "train_labels = train['polarity'].values\n",
        "test_texts = test['sentence'].values\n",
        "# test_labels = test['polarity'].values\n",
        "\n",
        "labels_index = {'pos':1, 'neg':0} "
      ],
      "execution_count": 7,
      "outputs": []
    },
    {
      "cell_type": "code",
      "metadata": {
        "colab": {
          "base_uri": "https://localhost:8080/"
        },
        "id": "QsaEgmBS5QFQ",
        "outputId": "38075705-7a30-47dd-9b36-d0b12cbe4222"
      },
      "source": [
        "test.columns"
      ],
      "execution_count": 8,
      "outputs": [
        {
          "output_type": "execute_result",
          "data": {
            "text/plain": [
              "Index(['sentence', 'sentiment', 'polarity'], dtype='object')"
            ]
          },
          "metadata": {
            "tags": []
          },
          "execution_count": 8
        }
      ]
    },
    {
      "cell_type": "code",
      "metadata": {
        "colab": {
          "base_uri": "https://localhost:8080/"
        },
        "id": "7-NTwErvCFZH",
        "outputId": "e2e99290-54a9-4db0-e0bb-bc1b4ac49a44"
      },
      "source": [
        "test_labels = test['polarity'].values\n",
        "test_labels"
      ],
      "execution_count": 9,
      "outputs": [
        {
          "output_type": "execute_result",
          "data": {
            "text/plain": [
              "array([0, 0, 0, ..., 1, 1, 1])"
            ]
          },
          "metadata": {
            "tags": []
          },
          "execution_count": 9
        }
      ]
    },
    {
      "cell_type": "markdown",
      "metadata": {
        "id": "XvWg2Z1WYKJo"
      },
      "source": [
        "We need to design an sklearn pipeline with our model.\n",
        "What is a pipeline?<br>\n",
        "\n",
        "**Transformer** in scikit-learn - some class that have fit and transform method, or fit_transform method.\n",
        "\n",
        "**Predictor** - some class that has fit and predict methods, or fit_predict method.\n",
        "\n",
        "**Pipeline** is just an abstract notion, it's not some existing ml algorithm. Often in ML tasks you need to perform sequence of different transformations (find set of features, generate new features, select only some good features) of raw dataset before applying final estimator. Pipeline gives you a single interface for all 3 steps of transformation and resulting estimator. It encapsulates transformers and predictors inside"
      ]
    },
    {
      "cell_type": "code",
      "metadata": {
        "id": "eq4eKlZVYKuq"
      },
      "source": [
        "class TextsToSequences(Tokenizer, BaseEstimator, TransformerMixin):\n",
        "    \"\"\" Sklearn transformer to convert texts to indices list \n",
        "    (e.g. [[\"the cute cat\"], [\"the dog\"]] -> [[1, 2, 3], [1, 4]])\"\"\"\n",
        "    def __init__(self,  **kwargs):\n",
        "        super().__init__(**kwargs)\n",
        "        \n",
        "    def fit(self, texts, y=None):\n",
        "        self.fit_on_texts(texts)\n",
        "        return self\n",
        "    \n",
        "    def transform(self, texts, y=None):\n",
        "        return np.array(self.texts_to_sequences(texts))\n",
        "        \n",
        "sequencer = TextsToSequences(num_words=vocab_size)"
      ],
      "execution_count": 10,
      "outputs": []
    },
    {
      "cell_type": "code",
      "metadata": {
        "id": "l9T8kg5vYSdB"
      },
      "source": [
        "class Padder(BaseEstimator, TransformerMixin):\n",
        "    \"\"\" Pad and crop uneven lists to the same length. \n",
        "    Only the end of lists longernthan the maxlen attribute are\n",
        "    kept, and lists shorter than maxlen are left-padded with zeros\n",
        "    \n",
        "    Attributes\n",
        "    ----------\n",
        "    maxlen: int\n",
        "        sizes of sequences after padding\n",
        "    max_index: int\n",
        "        maximum index known by the Padder, if a higher index is met during \n",
        "        transform it is transformed to a 0\n",
        "    \"\"\"\n",
        "    def __init__(self, maxlen=500):\n",
        "        self.maxlen = maxlen\n",
        "        self.max_index = None\n",
        "        \n",
        "    def fit(self, X, y=None):\n",
        "        self.max_index = pad_sequences(X, maxlen=self.maxlen).max()\n",
        "        return self\n",
        "    \n",
        "    def transform(self, X, y=None):\n",
        "        X = pad_sequences(X, maxlen=self.maxlen)\n",
        "        X[X > self.max_index] = 0\n",
        "        return X\n",
        "\n",
        "padder = Padder(maxlen)"
      ],
      "execution_count": 11,
      "outputs": []
    },
    {
      "cell_type": "markdown",
      "metadata": {
        "id": "HL7YcAobYW7o"
      },
      "source": [
        "We will only train for 2 epochs. A better model could be trained with more epochs and early stopping."
      ]
    },
    {
      "cell_type": "code",
      "metadata": {
        "colab": {
          "base_uri": "https://localhost:8080/"
        },
        "id": "xoVF53ZMYXZP",
        "outputId": "94847256-701a-4bff-b103-f6c4db0a574b"
      },
      "source": [
        "batch_size = 64\n",
        "max_features = vocab_size + 1\n",
        "\n",
        "#Training an LSTM with embedding on the fly\n",
        "def create_model(max_features):\n",
        "    \"\"\" Model creation function: returns a compiled LSTM\"\"\"\n",
        "    rnnmodel = Sequential()\n",
        "    rnnmodel.add(Embedding(MAX_NUM_WORDS, 128))\n",
        "    rnnmodel.add(LSTM(128, dropout=0.2, recurrent_dropout=0.2))\n",
        "    rnnmodel.add(Dense(1, activation='sigmoid'))\n",
        "    rnnmodel.compile(loss='binary_crossentropy', optimizer='adam', metrics=['accuracy'])\n",
        "    \n",
        "    return rnnmodel\n",
        "\n",
        "\n",
        "# Use Keras Scikit-learn wrapper to instantiate a LSTM with all methods\n",
        "# required by Scikit-learn for the last step of a Pipeline\n",
        "sklearn_lstm = KerasClassifier(build_fn=create_model, epochs=2, batch_size=32, max_features=max_features, verbose=1)\n",
        "\n",
        "# Build the Scikit-learn pipeline\n",
        "pipeline = make_pipeline(sequencer, padder, sklearn_lstm)\n",
        "\n",
        "pipeline.fit(train_texts, train_labels);"
      ],
      "execution_count": 12,
      "outputs": [
        {
          "output_type": "stream",
          "text": [
            "Epoch 1/2\n",
            "782/782 [==============================] - 2285s 3s/step - loss: 0.4317 - accuracy: 0.8059\n",
            "Epoch 2/2\n",
            "782/782 [==============================] - 2303s 3s/step - loss: 0.2309 - accuracy: 0.9129\n"
          ],
          "name": "stdout"
        }
      ]
    },
    {
      "cell_type": "markdown",
      "metadata": {
        "id": "3IQZ3qrkDXSX"
      },
      "source": [
        "## Part 2: Explaining Classifier Predictions with Lime"
      ]
    },
    {
      "cell_type": "markdown",
      "metadata": {
        "id": "ZsqI6zRhDYNN"
      },
      "source": [
        "Let’s take a model we already built and see how Lime can help us interpret its predictions."
      ]
    },
    {
      "cell_type": "code",
      "metadata": {
        "colab": {
          "base_uri": "https://localhost:8080/"
        },
        "id": "6NpxPi8bDLty",
        "outputId": "f69b8c24-adb9-4f22-f702-f6e093776ae3"
      },
      "source": [
        "# We choose a sample from test set\n",
        "idx = 11\n",
        "text_sample = test_texts[idx]\n",
        "class_names = ['negative', 'positive']\n",
        "\n",
        "print('Sample {}: last 1000 words (only part used by the model)'.format(idx))\n",
        "print('-'*50)\n",
        "print(\" \".join(text_sample.split()[-1000:]))\n",
        "print('-'*50)\n",
        "print('Probability(positive) =', pipeline.predict_proba([text_sample])[0,1])\n",
        "print('True class: %s' % class_names[test_labels[idx]])"
      ],
      "execution_count": 22,
      "outputs": [
        {
          "output_type": "stream",
          "text": [
            "Sample 11: last 1000 words (only part used by the model)\n",
            "--------------------------------------------------\n",
            "I agree with the posters before that the characters were exceptionally strong and believable and all the actors at their top form. I especially loved David Boreanaz stretching in a part so unlike anything else he played proving once again his amazing gift for comedy. The first part of the movie was light and funny, the blackmail part was a bit surrealistic but interesting - and it was all downhill from there.<br /><br />I found it frustrating that at least two out of the 3 girls (Keira and Lisa) get out of the blackmail&betrayal scot free, nary a trace left on their psyche. I know the movie amended the darker ending of the play - and I am not saying I missed the murder part. But I surely needed to see those two getting their comeuppance somehow and I was left groaning in frustration with the ending. (It's why I gave it only a 9)<br /><br />But definitely an interesting film.\n",
            "--------------------------------------------------\n",
            "WARNING:tensorflow:From /usr/local/lib/python3.6/dist-packages/tensorflow/python/keras/wrappers/scikit_learn.py:264: Sequential.predict_proba (from tensorflow.python.keras.engine.sequential) is deprecated and will be removed after 2021-01-01.\n",
            "Instructions for updating:\n",
            "Please use `model.predict()` instead.\n",
            "1/1 [==============================] - 0s 1ms/step\n",
            "Probability(positive) = 0.43945405\n",
            "True class: positive\n"
          ],
          "name": "stdout"
        }
      ]
    },
    {
      "cell_type": "code",
      "metadata": {
        "colab": {
          "base_uri": "https://localhost:8080/",
          "height": 378
        },
        "id": "onpIyf5XGeyO",
        "outputId": "d9f1f8d5-b1c2-4321-ea53-86848e618449"
      },
      "source": [
        "explainer = LimeTextExplainer(class_names=class_names)\n",
        "explanation = explainer.explain_instance(text_sample, pipeline.predict_proba, num_features=10)\n",
        "\n",
        "weights = OrderedDict(explanation.as_list())\n",
        "lime_weights = pd.DataFrame({\"words\": list(weights.keys()), \"weights\": list(weights.values())})\n",
        "\n",
        "sns.barplot(x=\"words\", y=\"weights\", data=lime_weights)\n",
        "plt.xticks(rotation=45)\n",
        "plt.title(\"Sample {} features weights given by LIME\".format(idx))"
      ],
      "execution_count": 23,
      "outputs": [
        {
          "output_type": "stream",
          "text": [
            "157/157 [==============================] - 46s 296ms/step\n"
          ],
          "name": "stdout"
        },
        {
          "output_type": "execute_result",
          "data": {
            "text/plain": [
              "Text(0.5, 1.0, 'Sample 11 features weights given by LIME')"
            ]
          },
          "metadata": {
            "tags": []
          },
          "execution_count": 23
        },
        {
          "output_type": "display_data",
          "data": {
            "image/png": "[encoded data removed]",
            "text/plain": [
              "<Figure size 432x288 with 1 Axes>"
            ]
          },
          "metadata": {
            "tags": [],
            "needs_background": "light"
          }
        }
      ]
    },
    {
      "cell_type": "markdown",
      "metadata": {
        "id": "k4Z5upruJjhV"
      },
      "source": [
        "We have used the LIME interpretation to provide explanations for a recurrent neural network. Looking at the graph we understand that the sentence is negative and the word \"worst\" affects it the most."
      ]
    }
  ]
}