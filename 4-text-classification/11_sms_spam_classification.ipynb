{
  "nbformat": 4,
  "nbformat_minor": 0,
  "metadata": {
    "colab": {
      "name": "11_sms_spam_classification.ipynb",
      "provenance": [],
      "toc_visible": true,
      "authorship_tag": "ABX9TyNV5QLXJMHIbzEI5Cw60eIQ",
      "include_colab_link": true
    },
    "kernelspec": {
      "name": "python3",
      "display_name": "Python 3"
    },
    "accelerator": "GPU"
  },
  "cells": [
    {
      "cell_type": "markdown",
      "metadata": {
        "id": "view-in-github",
        "colab_type": "text"
      },
      "source": [
        "<a href=\"https://colab.research.google.com/github/rahiakela/practical-natural-language-processing/blob/chapter-4-text-classification/11_sms_spam_classification.ipynb\" target=\"_parent\"><img src=\"https://colab.research.google.com/assets/colab-badge.svg\" alt=\"Open In Colab\"/></a>"
      ]
    },
    {
      "cell_type": "markdown",
      "metadata": {
        "id": "w7wFeuAbyW6V"
      },
      "source": [
        "# SMS Spam Classification"
      ]
    },
    {
      "cell_type": "markdown",
      "metadata": {
        "id": "7ojKmuGvyp6N"
      },
      "source": [
        "In this notebook we demonstrate how to classify if an image is SPAM or HAM using the SMS Spam Collection Dataset which can be found [here](https://www.kaggle.com/uciml/sms-spam-collection-dataset#spam.csv)."
      ]
    },
    {
      "cell_type": "markdown",
      "metadata": {
        "id": "eEjrheqDz7hb"
      },
      "source": [
        "## Setup"
      ]
    },
    {
      "cell_type": "code",
      "metadata": {
        "id": "XHBlWP2N0uL-",
        "colab": {
          "base_uri": "https://localhost:8080/"
        },
        "outputId": "1088e651-41ef-469f-8f0f-b29ea79b6eac"
      },
      "source": [
        "%%shell\n",
        "\n",
        "wget https://archive.ics.uci.edu/ml/machine-learning-databases/00228/smsspamcollection.zip\n",
        "unzip smsspamcollection.zip"
      ],
      "execution_count": 1,
      "outputs": [
        {
          "output_type": "stream",
          "text": [
            "--2020-12-10 09:01:54--  https://archive.ics.uci.edu/ml/machine-learning-databases/00228/smsspamcollection.zip\n",
            "Resolving archive.ics.uci.edu (archive.ics.uci.edu)... 128.195.10.252\n",
            "Connecting to archive.ics.uci.edu (archive.ics.uci.edu)|128.195.10.252|:443... connected.\n",
            "HTTP request sent, awaiting response... 200 OK\n",
            "Length: 203415 (199K) [application/x-httpd-php]\n",
            "Saving to: ‘smsspamcollection.zip’\n",
            "\n",
            "smsspamcollection.z 100%[===================>] 198.65K  --.-KB/s    in 0.1s    \n",
            "\n",
            "2020-12-10 09:01:55 (1.69 MB/s) - ‘smsspamcollection.zip’ saved [203415/203415]\n",
            "\n",
            "Archive:  smsspamcollection.zip\n",
            "  inflating: SMSSpamCollection       \n",
            "  inflating: readme                  \n"
          ],
          "name": "stdout"
        },
        {
          "output_type": "execute_result",
          "data": {
            "text/plain": [
              ""
            ]
          },
          "metadata": {
            "tags": []
          },
          "execution_count": 1
        }
      ]
    },
    {
      "cell_type": "markdown",
      "metadata": {
        "id": "nQR-pVk_Mc4S"
      },
      "source": [
        "Setup for logistic regression classifier."
      ]
    },
    {
      "cell_type": "code",
      "metadata": {
        "id": "Ir-uTg9Wzq4e"
      },
      "source": [
        "import numpy as np\n",
        "import pandas as pd #to work with csv files\n",
        "\n",
        "import fastai\n",
        "from fastai import *\n",
        "from fastai.text import * \n",
        "import pandas as pd\n",
        "import numpy as np\n",
        "from functools import partial\n",
        "import io\n",
        "import os\n",
        "\n",
        "from sklearn.model_selection import train_test_split"
      ],
      "execution_count": 2,
      "outputs": []
    },
    {
      "cell_type": "markdown",
      "metadata": {
        "id": "tqUrmO0b5GNs"
      },
      "source": [
        "## Data Exploration"
      ]
    },
    {
      "cell_type": "code",
      "metadata": {
        "id": "CGQfobth0fiZ",
        "colab": {
          "base_uri": "https://localhost:8080/",
          "height": 200
        },
        "outputId": "7b73d2d4-43d9-4a42-eb81-7dbd6e07eeae"
      },
      "source": [
        "df = pd.read_csv(\"SMSSpamCollection\", sep=\"\\t\", header=None, names=[\"target\", \"text\"])\n",
        "df.head()"
      ],
      "execution_count": 3,
      "outputs": [
        {
          "output_type": "execute_result",
          "data": {
            "text/html": [
              "<div>\n",
              "<style scoped>\n",
              "    .dataframe tbody tr th:only-of-type {\n",
              "        vertical-align: middle;\n",
              "    }\n",
              "\n",
              "    .dataframe tbody tr th {\n",
              "        vertical-align: top;\n",
              "    }\n",
              "\n",
              "    .dataframe thead th {\n",
              "        text-align: right;\n",
              "    }\n",
              "</style>\n",
              "<table border=\"1\" class=\"dataframe\">\n",
              "  <thead>\n",
              "    <tr style=\"text-align: right;\">\n",
              "      <th></th>\n",
              "      <th>target</th>\n",
              "      <th>text</th>\n",
              "    </tr>\n",
              "  </thead>\n",
              "  <tbody>\n",
              "    <tr>\n",
              "      <th>0</th>\n",
              "      <td>ham</td>\n",
              "      <td>Go until jurong point, crazy.. Available only ...</td>\n",
              "    </tr>\n",
              "    <tr>\n",
              "      <th>1</th>\n",
              "      <td>ham</td>\n",
              "      <td>Ok lar... Joking wif u oni...</td>\n",
              "    </tr>\n",
              "    <tr>\n",
              "      <th>2</th>\n",
              "      <td>spam</td>\n",
              "      <td>Free entry in 2 a wkly comp to win FA Cup fina...</td>\n",
              "    </tr>\n",
              "    <tr>\n",
              "      <th>3</th>\n",
              "      <td>ham</td>\n",
              "      <td>U dun say so early hor... U c already then say...</td>\n",
              "    </tr>\n",
              "    <tr>\n",
              "      <th>4</th>\n",
              "      <td>ham</td>\n",
              "      <td>Nah I don't think he goes to usf, he lives aro...</td>\n",
              "    </tr>\n",
              "  </tbody>\n",
              "</table>\n",
              "</div>"
            ],
            "text/plain": [
              "  target                                               text\n",
              "0    ham  Go until jurong point, crazy.. Available only ...\n",
              "1    ham                      Ok lar... Joking wif u oni...\n",
              "2   spam  Free entry in 2 a wkly comp to win FA Cup fina...\n",
              "3    ham  U dun say so early hor... U c already then say...\n",
              "4    ham  Nah I don't think he goes to usf, he lives aro..."
            ]
          },
          "metadata": {
            "tags": []
          },
          "execution_count": 3
        }
      ]
    },
    {
      "cell_type": "code",
      "metadata": {
        "id": "_fh14YkN3PXQ",
        "colab": {
          "base_uri": "https://localhost:8080/",
          "height": 88
        },
        "outputId": "4a6ef78b-53ac-4d43-b0dd-a83950668756"
      },
      "source": [
        "# Number of rows (instances) and columns in the dataset\n",
        "display(df.shape)\n",
        "\n",
        "# Class distribution in the dataset\n",
        "df[\"target\"].value_counts() / df.shape[0]"
      ],
      "execution_count": 4,
      "outputs": [
        {
          "output_type": "display_data",
          "data": {
            "text/plain": [
              "(5572, 2)"
            ]
          },
          "metadata": {
            "tags": []
          }
        },
        {
          "output_type": "execute_result",
          "data": {
            "text/plain": [
              "ham     0.865937\n",
              "spam    0.134063\n",
              "Name: target, dtype: float64"
            ]
          },
          "metadata": {
            "tags": []
          },
          "execution_count": 4
        }
      ]
    },
    {
      "cell_type": "code",
      "metadata": {
        "colab": {
          "base_uri": "https://localhost:8080/"
        },
        "id": "_MoWfHPJ3wuN",
        "outputId": "696d94e3-2f7a-4e52-e38d-92ab6b20a937"
      },
      "source": [
        "# split data into training and validation set\n",
        "df_train, df_test = train_test_split(df, stratify=df[\"target\"], test_size=0.2, random_state=2020)\n",
        "print(df_train.shape, df_test.shape)"
      ],
      "execution_count": 5,
      "outputs": [
        {
          "output_type": "stream",
          "text": [
            "(4457, 2) (1115, 2)\n"
          ],
          "name": "stdout"
        }
      ]
    },
    {
      "cell_type": "markdown",
      "metadata": {
        "id": "ae9nfVZb7ioh"
      },
      "source": [
        "## Language model data"
      ]
    },
    {
      "cell_type": "markdown",
      "metadata": {
        "id": "p-urxlPa8OiY"
      },
      "source": [
        "TextLMDataBunch applies some text preprocessing tasks to help the algorithm perform better. Altough we commonly remove stopwords and punctuations, here we do not do it. This model can handle semantics, deleting such information might do more harm than good with respect to accuracy."
      ]
    },
    {
      "cell_type": "code",
      "metadata": {
        "id": "Ii6PQyxa4h-U",
        "colab": {
          "base_uri": "https://localhost:8080/",
          "height": 17
        },
        "outputId": "a8142bc6-4b77-4362-a700-df4ab1774b3f"
      },
      "source": [
        "# Language model data\n",
        "data_lm = TextLMDataBunch.from_df(train_df=df_train, valid_df=df_test, path=\"\")\n",
        "\n",
        "# Classifier model data\n",
        "data_class = TextLMDataBunch.from_df(path=\"\", train_df=df_train, valid_df=df_test, vocab=data_lm.train_ds.vocab, bs=32)"
      ],
      "execution_count": 10,
      "outputs": [
        {
          "output_type": "display_data",
          "data": {
            "text/html": [
              ""
            ],
            "text/plain": [
              "<IPython.core.display.HTML object>"
            ]
          },
          "metadata": {
            "tags": []
          }
        },
        {
          "output_type": "display_data",
          "data": {
            "text/html": [
              ""
            ],
            "text/plain": [
              "<IPython.core.display.HTML object>"
            ]
          },
          "metadata": {
            "tags": []
          }
        },
        {
          "output_type": "display_data",
          "data": {
            "text/html": [
              ""
            ],
            "text/plain": [
              "<IPython.core.display.HTML object>"
            ]
          },
          "metadata": {
            "tags": []
          }
        },
        {
          "output_type": "display_data",
          "data": {
            "text/html": [
              ""
            ],
            "text/plain": [
              "<IPython.core.display.HTML object>"
            ]
          },
          "metadata": {
            "tags": []
          }
        }
      ]
    },
    {
      "cell_type": "markdown",
      "metadata": {
        "id": "6Cuo0HKR8SXJ"
      },
      "source": [
        "Now lets look at our training data."
      ]
    },
    {
      "cell_type": "code",
      "metadata": {
        "colab": {
          "base_uri": "https://localhost:8080/",
          "height": 370
        },
        "id": "QsaEgmBS5QFQ",
        "outputId": "6e97867f-3641-436a-eafd-03c17b236ea5"
      },
      "source": [
        "data_lm.show_batch()"
      ],
      "execution_count": 11,
      "outputs": [
        {
          "output_type": "display_data",
          "data": {
            "text/html": [
              "<table border=\"1\" class=\"dataframe\">\n",
              "  <thead>\n",
              "    <tr style=\"text-align: right;\">\n",
              "      <th>idx</th>\n",
              "      <th>text</th>\n",
              "    </tr>\n",
              "  </thead>\n",
              "  <tbody>\n",
              "    <tr>\n",
              "      <td>0</td>\n",
              "      <td>. xxmaj mark is taking forever to pick up my prescription and the pain is coming back . xxbos xxmaj your credits have been xxunk up for http : / / xxunk xxmaj your renewal xxmaj pin is xxunk xxbos xxmaj loan for any purpose £ 500 - £ 75,000 . xxmaj homeowners + xxmaj tenants welcome . xxmaj have you been previously refused ? xxmaj we can still help</td>\n",
              "    </tr>\n",
              "    <tr>\n",
              "      <td>1</td>\n",
              "      <td>b going to esplanade fr home ? xxbos somewhere out there beneath the pale moon light someone think in of u some where out there where dreams come true ... goodnite &amp; &amp; sweet dreams xxbos xxmaj well that must be a pain to catch xxbos sry ca n't talk on phone , with parents xxbos xxmaj hope you are having a good week . xxmaj just checking in xxbos</td>\n",
              "    </tr>\n",
              "    <tr>\n",
              "      <td>2</td>\n",
              "      <td>on a xxup reality xxup fantasy xxup show call now = 08707509020 xxmaj just 20p per min xxup ntt xxmaj ltd , xxup po xxmaj box 1327 xxmaj croydon xxup cr9 xxup 5wb 0870 is a national = rate call xxbos i think your xxunk is , but not 100 xxunk sure . xxbos xxmaj all e best 4 ur driving tmr :-) xxbos xxmaj finished class where are you</td>\n",
              "    </tr>\n",
              "    <tr>\n",
              "      <td>3</td>\n",
              "      <td>is * rite u put xxunk 10 xxunk mnth is that all ? xxbos xxmaj have you been xxunk your xxunk ? xxbos xxmaj what year . xxmaj and how many miles . xxbos , how 's things ? xxmaj just a quick question . xxbos xxmaj tell your friends what you plan to do on xxmaj valentines day @ &lt; xxup url &gt; xxbos * xxmaj was really good</td>\n",
              "    </tr>\n",
              "    <tr>\n",
              "      <td>4</td>\n",
              "      <td>message . xxmaj this is a final contact attempt . xxmaj you have important messages waiting out our customer claims xxunk . xxmaj expires 13 / 4 / 04 . xxmaj call xxunk xxup now ! xxbos xxmaj miles and smiles r made frm same letters but do u know d difference .. ? smile on ur face keeps me happy even though i am miles away from u ..</td>\n",
              "    </tr>\n",
              "  </tbody>\n",
              "</table>"
            ],
            "text/plain": [
              "<IPython.core.display.HTML object>"
            ]
          },
          "metadata": {
            "tags": []
          }
        }
      ]
    },
    {
      "cell_type": "markdown",
      "metadata": {
        "id": "w_NTN48r8iQ7"
      },
      "source": [
        "Those 'xxmaj','xxbos', 'xxup' etc are all special tokens for the NN. xxbos stands for begin of sentence, xxmaj indicates that the first letter of the next word is in capital letter, 'xxup' is used to indicate the entire next word is in captital letters. \r\n",
        "\r\n",
        "You can view the entire set of tokens here."
      ]
    },
    {
      "cell_type": "code",
      "metadata": {
        "id": "7-NTwErvCFZH",
        "colab": {
          "base_uri": "https://localhost:8080/",
          "height": 35
        },
        "outputId": "52b83be7-6622-422b-c971-98b7c40b41d6"
      },
      "source": [
        "model = language_model_learner(data_lm,  arch = AWD_LSTM, pretrained = True, drop_mult=0.5)"
      ],
      "execution_count": 12,
      "outputs": [
        {
          "output_type": "stream",
          "text": [
            "Downloading https://s3.amazonaws.com/fast-ai-modelzoo/wt103-fwd.tgz\n"
          ],
          "name": "stdout"
        },
        {
          "output_type": "display_data",
          "data": {
            "text/html": [
              ""
            ],
            "text/plain": [
              "<IPython.core.display.HTML object>"
            ]
          },
          "metadata": {
            "tags": []
          }
        }
      ]
    },
    {
      "cell_type": "markdown",
      "metadata": {
        "id": "OwHBTUQW889_"
      },
      "source": [
        "We will use a pretrained model. You can learn more about it here.\r\n",
        "\r\n",
        "Now lets test our language model. Its is giving sensible outputs as it is pre trained on wiki corpus."
      ]
    },
    {
      "cell_type": "code",
      "metadata": {
        "colab": {
          "base_uri": "https://localhost:8080/"
        },
        "id": "FNcesrfyIN-k",
        "outputId": "2879a9c1-beac-4ff6-e389-bd11d2f13eb2"
      },
      "source": [
        "for i in range(10):\n",
        "  print(model.predict(\"The food is\", n_words=15))"
      ],
      "execution_count": 13,
      "outputs": [
        {
          "output_type": "stream",
          "text": [
            "The food is high in British food , and is often given to the people who meet\n",
            "The food is too tight to hold , and it is not anywhere from one season to one\n",
            "The food is not a medicine work and is not provided by Al Green .\n",
            "The food is children 's works , an academic job via their English : English or\n",
            "The food is but a lounge restaurant for almost a film or up - and - then -\n",
            "The food is stop - hit - between - one - run and is ever run .\n",
            "The food is some of the language of British travel and history , though it has not\n",
            "The food is Food and Food World : Red and White Travel\n",
            "The food is a Japanese drink and is used by various Japanese during the middle of\n",
            "The food is sweet , and the chicken is well received as a market cake . It\n"
          ],
          "name": "stdout"
        }
      ]
    },
    {
      "cell_type": "code",
      "metadata": {
        "colab": {
          "base_uri": "https://localhost:8080/"
        },
        "id": "jT2uoAD4-0s7",
        "outputId": "780c91af-2644-42c8-dfbc-413478bc431f"
      },
      "source": [
        "for i in range(10):\r\n",
        "  print(model.predict(\"The food is\", n_words=5))"
      ],
      "execution_count": 14,
      "outputs": [
        {
          "output_type": "stream",
          "text": [
            "The food is in the arts and arts\n",
            "The food is not always fun .\n",
            "The food is taken from Chinese and\n",
            "The food is used in the day to\n",
            "The food is probably the largest food store\n",
            "The food is sometimes common as trade or\n",
            "The food is Yellow Fever =\n",
            "The food is a Guy Henry\n",
            "The food is other thought to help people\n",
            "The food is Fat Anna ,\n"
          ],
          "name": "stdout"
        }
      ]
    },
    {
      "cell_type": "code",
      "metadata": {
        "colab": {
          "base_uri": "https://localhost:8080/"
        },
        "id": "NyWGSgHF-7dr",
        "outputId": "179abedf-f523-4a25-acf8-9f475164f004"
      },
      "source": [
        "for i in range(10):\r\n",
        "  print(model.predict(\"The food is\", n_words=25))"
      ],
      "execution_count": 15,
      "outputs": [
        {
          "output_type": "stream",
          "text": [
            "The food is a doctor 's daily on the Cold Air Station . The little bonus pieces which were taken by the doctor ,\n",
            "The food is by Japanese clothes table in oil pool , and is g - type and making it possible to drink a little food for hungry\n",
            "The food is set off from the Old Spanish Hospital in London , but the morning is so bad that , in the following\n",
            "The food is made more gudnite that way , but not all British Birds . For years , the food in the food were cheaper\n",
            "The food is for nothing from Internet content , instead of coffee . It is pizza , which are foreign and trade food . It\n",
            "The food is eaten in India by Indian Doctor Who Prey and Indian Royal Representative Dan Smith .\n",
            "The food is collected for each Saturday morning , after an hour : by Mr. Happily . It is then available as a food\n",
            "The food is enjoyed in many ends , including its base by British flag . In the middle of Cooking 's play The\n",
            "The food is Spanish for \" Food \" . The word has been used to mark the world 's basic issues and plan of waste\n",
            "The food is American , a style from UK food food created by British Royal Railway from the late late London\n"
          ],
          "name": "stdout"
        }
      ]
    },
    {
      "cell_type": "markdown",
      "metadata": {
        "id": "ZsqI6zRhDYNN"
      },
      "source": [
        "We will now need to fine tune our model for our particular task.\r\n",
        "\r\n",
        "you can find more details about this at https://docs.fast.ai/basic_train.html"
      ]
    },
    {
      "cell_type": "code",
      "metadata": {
        "colab": {
          "base_uri": "https://localhost:8080/",
          "height": 535
        },
        "id": "6NpxPi8bDLty",
        "outputId": "644bb84e-a08e-4482-8c79-650eccc75b0c"
      },
      "source": [
        "model.lr_find()\n",
        "model.recorder.plot(suggestion=True)"
      ],
      "execution_count": 16,
      "outputs": [
        {
          "output_type": "display_data",
          "data": {
            "text/html": [
              "\n",
              "    <div>\n",
              "        <style>\n",
              "            /* Turns off some styling */\n",
              "            progress {\n",
              "                /* gets rid of default border in Firefox and Opera. */\n",
              "                border: none;\n",
              "                /* Needs to be in here for Safari polyfill so background images work as expected. */\n",
              "                background-size: auto;\n",
              "            }\n",
              "            .progress-bar-interrupted, .progress-bar-interrupted::-webkit-progress-bar {\n",
              "                background: #F44336;\n",
              "            }\n",
              "        </style>\n",
              "      <progress value='4' class='' max='5' style='width:300px; height:20px; vertical-align: middle;'></progress>\n",
              "      80.00% [4/5 00:13<00:03]\n",
              "    </div>\n",
              "    \n",
              "<table border=\"1\" class=\"dataframe\">\n",
              "  <thead>\n",
              "    <tr style=\"text-align: left;\">\n",
              "      <th>epoch</th>\n",
              "      <th>train_loss</th>\n",
              "      <th>valid_loss</th>\n",
              "      <th>accuracy</th>\n",
              "      <th>time</th>\n",
              "    </tr>\n",
              "  </thead>\n",
              "  <tbody>\n",
              "    <tr>\n",
              "      <td>0</td>\n",
              "      <td>6.140140</td>\n",
              "      <td>#na#</td>\n",
              "      <td>00:03</td>\n",
              "    </tr>\n",
              "    <tr>\n",
              "      <td>1</td>\n",
              "      <td>6.129275</td>\n",
              "      <td>#na#</td>\n",
              "      <td>00:03</td>\n",
              "    </tr>\n",
              "    <tr>\n",
              "      <td>2</td>\n",
              "      <td>5.863422</td>\n",
              "      <td>#na#</td>\n",
              "      <td>00:03</td>\n",
              "    </tr>\n",
              "    <tr>\n",
              "      <td>3</td>\n",
              "      <td>5.871974</td>\n",
              "      <td>#na#</td>\n",
              "      <td>00:03</td>\n",
              "    </tr>\n",
              "  </tbody>\n",
              "</table><p>\n",
              "\n",
              "    <div>\n",
              "        <style>\n",
              "            /* Turns off some styling */\n",
              "            progress {\n",
              "                /* gets rid of default border in Firefox and Opera. */\n",
              "                border: none;\n",
              "                /* Needs to be in here for Safari polyfill so background images work as expected. */\n",
              "                background-size: auto;\n",
              "            }\n",
              "            .progress-bar-interrupted, .progress-bar-interrupted::-webkit-progress-bar {\n",
              "                background: #F44336;\n",
              "            }\n",
              "        </style>\n",
              "      <progress value='7' class='' max='23' style='width:300px; height:20px; vertical-align: middle;'></progress>\n",
              "      30.43% [7/23 00:01<00:02 9.4222]\n",
              "    </div>\n",
              "    "
            ],
            "text/plain": [
              "<IPython.core.display.HTML object>"
            ]
          },
          "metadata": {
            "tags": []
          }
        },
        {
          "output_type": "stream",
          "text": [
            "LR Finder is complete, type {learner_name}.recorder.plot() to see the graph.\n",
            "Min numerical gradient: 5.75E-02\n",
            "Min loss divided by 10: 6.31E-02\n"
          ],
          "name": "stdout"
        },
        {
          "output_type": "display_data",
          "data": {
            "image/png": "[encoded data removed]",
            "text/plain": [
              "<Figure size 432x288 with 1 Axes>"
            ]
          },
          "metadata": {
            "tags": [],
            "needs_background": "light"
          }
        }
      ]
    },
    {
      "cell_type": "markdown",
      "metadata": {
        "id": "WJPb6FOHAJSv"
      },
      "source": [
        "you can freeze and unfreeze different layers and by doing so we can have different lr for each layer.\r\n",
        "\r\n",
        "\r\n",
        "Please check for freezing and unfreezing code you can refer https://docs.fast.ai/text.html"
      ]
    },
    {
      "cell_type": "code",
      "metadata": {
        "colab": {
          "base_uri": "https://localhost:8080/",
          "height": 78
        },
        "id": "onpIyf5XGeyO",
        "outputId": "515f9795-281f-4fa7-d14d-583be4001041"
      },
      "source": [
        "model.fit_one_cycle(1, max_lr=5e-02)"
      ],
      "execution_count": 17,
      "outputs": [
        {
          "output_type": "display_data",
          "data": {
            "text/html": [
              "<table border=\"1\" class=\"dataframe\">\n",
              "  <thead>\n",
              "    <tr style=\"text-align: left;\">\n",
              "      <th>epoch</th>\n",
              "      <th>train_loss</th>\n",
              "      <th>valid_loss</th>\n",
              "      <th>accuracy</th>\n",
              "      <th>time</th>\n",
              "    </tr>\n",
              "  </thead>\n",
              "  <tbody>\n",
              "    <tr>\n",
              "      <td>0</td>\n",
              "      <td>4.990967</td>\n",
              "      <td>3.961833</td>\n",
              "      <td>0.228571</td>\n",
              "      <td>00:03</td>\n",
              "    </tr>\n",
              "  </tbody>\n",
              "</table>"
            ],
            "text/plain": [
              "<IPython.core.display.HTML object>"
            ]
          },
          "metadata": {
            "tags": []
          }
        }
      ]
    },
    {
      "cell_type": "code",
      "metadata": {
        "colab": {
          "base_uri": "https://localhost:8080/",
          "height": 200
        },
        "id": "PfUHHA6gAiRz",
        "outputId": "2156d612-98fc-4546-cf0d-cc7e13cc6e20"
      },
      "source": [
        "model.fit_one_cycle(5, max_lr=5e-02)"
      ],
      "execution_count": 18,
      "outputs": [
        {
          "output_type": "display_data",
          "data": {
            "text/html": [
              "<table border=\"1\" class=\"dataframe\">\n",
              "  <thead>\n",
              "    <tr style=\"text-align: left;\">\n",
              "      <th>epoch</th>\n",
              "      <th>train_loss</th>\n",
              "      <th>valid_loss</th>\n",
              "      <th>accuracy</th>\n",
              "      <th>time</th>\n",
              "    </tr>\n",
              "  </thead>\n",
              "  <tbody>\n",
              "    <tr>\n",
              "      <td>0</td>\n",
              "      <td>4.050162</td>\n",
              "      <td>3.818049</td>\n",
              "      <td>0.285714</td>\n",
              "      <td>00:03</td>\n",
              "    </tr>\n",
              "    <tr>\n",
              "      <td>1</td>\n",
              "      <td>3.828473</td>\n",
              "      <td>4.058096</td>\n",
              "      <td>0.257143</td>\n",
              "      <td>00:03</td>\n",
              "    </tr>\n",
              "    <tr>\n",
              "      <td>2</td>\n",
              "      <td>3.588484</td>\n",
              "      <td>3.910788</td>\n",
              "      <td>0.228571</td>\n",
              "      <td>00:03</td>\n",
              "    </tr>\n",
              "    <tr>\n",
              "      <td>3</td>\n",
              "      <td>3.310348</td>\n",
              "      <td>4.003215</td>\n",
              "      <td>0.200000</td>\n",
              "      <td>00:03</td>\n",
              "    </tr>\n",
              "    <tr>\n",
              "      <td>4</td>\n",
              "      <td>3.077628</td>\n",
              "      <td>3.969644</td>\n",
              "      <td>0.228571</td>\n",
              "      <td>00:03</td>\n",
              "    </tr>\n",
              "  </tbody>\n",
              "</table>"
            ],
            "text/plain": [
              "<IPython.core.display.HTML object>"
            ]
          },
          "metadata": {
            "tags": []
          }
        }
      ]
    },
    {
      "cell_type": "code",
      "metadata": {
        "colab": {
          "base_uri": "https://localhost:8080/"
        },
        "id": "0hs5gl5-Auma",
        "outputId": "8d50c5a2-c129-415c-c843-dac728b14eb2"
      },
      "source": [
        "for i in range(10):\r\n",
        "  print(model.predict(\"The food is\", n_words=15))"
      ],
      "execution_count": 19,
      "outputs": [
        {
          "output_type": "stream",
          "text": [
            "The food is a food food , food and food . xxbos My one of them is\n",
            "The food is very potato , and take part in a dogging flirt with food Recently n\n",
            "The food is very nice . The food looks like its fault , but its won a\n",
            "The food is yummy and food is wife and food . i have a sweet j drive ,\n",
            "The food is a slice . Its kinda kinda kinda kinda , Okie look greetings of\n",
            "The food is made into a tool sound and can chip in their ideal wit their penis worries\n",
            "The food is food etc . xxbos Mesages today r they awarded with Loves the £\n",
            "The food is quite nice and very nice . The food needs to eat all anti sleep\n",
            "The food is quite nice . You take the food from tt i d tt whatever .\n",
            "The food is very big ( < # > ) . The food is very nice .\n"
          ],
          "name": "stdout"
        }
      ]
    },
    {
      "cell_type": "code",
      "metadata": {
        "colab": {
          "base_uri": "https://localhost:8080/"
        },
        "id": "hWRCt3dvAz5U",
        "outputId": "6b678214-7efb-4f28-9419-a197bc34abaf"
      },
      "source": [
        "for i in range(10):\r\n",
        "  print(model.predict(\"The food is\", n_words=5))"
      ],
      "execution_count": 20,
      "outputs": [
        {
          "output_type": "stream",
          "text": [
            "The food is still used but food is\n",
            "The food is kinda kinda kinda kinda but\n",
            "The food is kinda kinda kinda and kinda\n",
            "The food is very rofl . Its\n",
            "The food is very nice . It\n",
            "The food is quite nice . At\n",
            "The food is kinda kinda kinda .\n",
            "The food is kinda kinda kinda kinda kinda\n",
            "The food is great . Oh .\n",
            "The food is kinda pizza done or food\n"
          ],
          "name": "stdout"
        }
      ]
    },
    {
      "cell_type": "code",
      "metadata": {
        "colab": {
          "base_uri": "https://localhost:8080/"
        },
        "id": "-_5lGGzXA4Vv",
        "outputId": "52694af0-576e-4bf5-cf81-5cba0c4e6759"
      },
      "source": [
        "for i in range(10):\r\n",
        "  print(model.predict(\"The food is\", n_words=25))"
      ],
      "execution_count": 21,
      "outputs": [
        {
          "output_type": "stream",
          "text": [
            "The food is sexy , sexy , straight 2 ya tomo . xxbos Pete , we are doing one of New Years guaranteed !\n",
            "The food is a great drink . i think of my drink and shit to collect your ass . A tea is in 10am-7pm Cost 10p\n",
            "The food is quite clean : ) xxbos ü go temple & & church .. Any time time call is coming am then will b coming .\n",
            "The food is natural and you have to apologise her food . You could reach online now and sell your food back from the hotel after half\n",
            "The food is a food order : ) xxbos Too long then 1 / 10 2005 . T&C DAN xxbos r then u ? search\n",
            "The food is no longer high . Its an food flame . Food is fair enough to vomit or its really nice for the food .\n",
            "The food is from Games . They do n't know about food , and the food is slice . Its small food , confirmed for\n",
            "The food is quite nice . In many few days.he have dry record players since they died but mine through the rest of our lives there .\n",
            "The food is really nice . Just text me when you 're talking . Do you miss me already ? xxbos Probably cheap than your\n",
            "The food is really nice . The food is nice : a big , fat meaning of a bit nice . When 's the year when\n"
          ],
          "name": "stdout"
        }
      ]
    },
    {
      "cell_type": "markdown",
      "metadata": {
        "id": "k4Z5upruJjhV"
      },
      "source": [
        "Note that now the model is predicting ':)' and other such characters which can generally be seen in SMS messages. With further more fine tuning and running it for more cyles you can get the model to predict more characters which are found in SMS messages."
      ]
    }
  ]
}