{
  "nbformat": 4,
  "nbformat_minor": 0,
  "metadata": {
    "colab": {
      "name": "7-BERT--sentiment-classification-with-large-pre-trained-model-using-ktrain.ipynb",
      "provenance": [],
      "toc_visible": true,
      "authorship_tag": "ABX9TyMe+Z2c61w7oqtUOt55Aafo",
      "include_colab_link": true
    },
    "kernelspec": {
      "name": "python3",
      "display_name": "Python 3"
    },
    "accelerator": "GPU"
  },
  "cells": [
    {
      "cell_type": "markdown",
      "metadata": {
        "id": "view-in-github",
        "colab_type": "text"
      },
      "source": [
        "<a href=\"https://colab.research.google.com/github/rahiakela/practical-natural-language-processing/blob/chapter-4-text-classification/7_BERT_sentiment_classification_with_large_pre_trained_model_using_ktrain.ipynb\" target=\"_parent\"><img src=\"https://colab.research.google.com/assets/colab-badge.svg\" alt=\"Open In Colab\"/></a>"
      ]
    },
    {
      "cell_type": "markdown",
      "metadata": {
        "id": "i--scnBz77Bn"
      },
      "source": [
        "# BERT: Sentiment Classification with Large, Pre-Trained Language Models using Ktrain"
      ]
    },
    {
      "cell_type": "markdown",
      "metadata": {
        "id": "MLzaGHLE7_1Y"
      },
      "source": [
        "In the past two years, there have been great improvements in using neural network–based text representations for NLP tasks.These representations have been used successfully for text classification in the recent past by fine-tuning the pre-trained models to the given task and dataset. BERT,is a popular model used in this way for Sentiment classification. \n",
        "\n",
        "Let’s take a look at how to use BERT for Sentiment classification using the IMDB dataset we used earlier in this section.\n",
        "\n",
        "We’ll use [ktrain](https://github.com/amaiya/ktrain), a lightweight wrapper to train and use pre-trained DL models using the TensorFlow library Keras. ktrain provides a straightforward process for all steps, from obtaining the dataset and the pre-trained BERT to fine-tuning it for the classification task. \n",
        "\n",
        "In this notebook we build a binarry classifier for the IMDB Reviews Dataset using [BERT](https://arxiv.org/abs/1810.04805), a pre-Trained NLP model open soucred by google in late 2018 that can be used for [Transfer Learning](https://towardsdatascience.com/transfer-learning-in-nlp-fecc59f546e4) on textual data. The link for the dataset can be found [here](https://www.kaggle.com/lakshmi25npathi/imdb-dataset-of-50k-movie-reviews).\n",
        "\n",
        "This notebook requires a GPU to get setup. We suggest you to run this on your local machine only if you have a GPU setup or else you can use google colab."
      ]
    },
    {
      "cell_type": "markdown",
      "metadata": {
        "id": "mLp7yqcJ96Gw"
      },
      "source": [
        "## Setup"
      ]
    },
    {
      "cell_type": "code",
      "metadata": {
        "id": "wEMRS-9w97cs"
      },
      "source": [
        "%%shell\n",
        "\n",
        "# install ktrain \n",
        "pip install ktrain"
      ],
      "execution_count": null,
      "outputs": []
    },
    {
      "cell_type": "code",
      "metadata": {
        "id": "T37h1zW-Kg4G"
      },
      "source": [
        "import tensorflow as tf"
      ],
      "execution_count": 2,
      "outputs": []
    },
    {
      "cell_type": "code",
      "metadata": {
        "id": "5r12rtwVAmHD"
      },
      "source": [
        "import ktrain\r\n",
        "from ktrain import text"
      ],
      "execution_count": 3,
      "outputs": []
    },
    {
      "cell_type": "code",
      "metadata": {
        "id": "ob1H6gpAABcm"
      },
      "source": [
        "import os.path\n",
        "\n",
        "import pandas as pd\n",
        "import io\n",
        "import numpy as np\n",
        "import matplotlib.pyplot as plt\n",
        "%matplotlib inline"
      ],
      "execution_count": 4,
      "outputs": []
    },
    {
      "cell_type": "markdown",
      "metadata": {
        "id": "52NxjpftJ-oK"
      },
      "source": [
        "Let’s see how to load the dataset first through the code snippet below:"
      ]
    },
    {
      "cell_type": "code",
      "metadata": {
        "id": "jeoBPXymAMmq",
        "colab": {
          "base_uri": "https://localhost:8080/"
        },
        "outputId": "ddc47e6f-9e53-45f6-d328-4a71c2ae409e"
      },
      "source": [
        "# obtain the dataset\n",
        "dataset = tf.keras.utils.get_file(fname=\"aclImdb.tar.gz\", origin=\"http://ai.stanford.edu/~amaas/data/sentiment/aclImdb_v1.tar.gz\", extract=True)"
      ],
      "execution_count": 5,
      "outputs": [
        {
          "output_type": "stream",
          "text": [
            "Downloading data from http://ai.stanford.edu/~amaas/data/sentiment/aclImdb_v1.tar.gz\n",
            "84131840/84125825 [==============================] - 1s 0us/step\n"
          ],
          "name": "stdout"
        }
      ]
    },
    {
      "cell_type": "code",
      "metadata": {
        "id": "3J9XJVjeAUgu",
        "colab": {
          "base_uri": "https://localhost:8080/"
        },
        "outputId": "489394b8-ad39-48f9-fb04-935cfa04012c"
      },
      "source": [
        "%cd /root/.keras/datasets/aclImdb\n",
        "!ls"
      ],
      "execution_count": 6,
      "outputs": [
        {
          "output_type": "stream",
          "text": [
            "/root/.keras/datasets/aclImdb\n",
            "imdbEr.txt  imdb.vocab\tREADME\ttest  train\n"
          ],
          "name": "stdout"
        }
      ]
    },
    {
      "cell_type": "code",
      "metadata": {
        "colab": {
          "base_uri": "https://localhost:8080/"
        },
        "id": "WK5KQAoCLVnI",
        "outputId": "50234faf-0a88-444b-e1ea-6f3d6b7a82de"
      },
      "source": [
        "# set path to dataset\n",
        "dataset = \"/root/.keras/datasets/aclImdb\"\n",
        "IMDB_DATADIR = os.path.join(os.path.dirname(dataset), \"aclImdb\")\n",
        "print(IMDB_DATADIR)"
      ],
      "execution_count": 7,
      "outputs": [
        {
          "output_type": "stream",
          "text": [
            "/root/.keras/datasets/aclImdb\n"
          ],
          "name": "stdout"
        }
      ]
    },
    {
      "cell_type": "markdown",
      "metadata": {
        "id": "jooHqeJMBN6X"
      },
      "source": [
        "## STEP 1: Preprocessing"
      ]
    },
    {
      "cell_type": "markdown",
      "metadata": {
        "id": "UdIGzbFxMERC"
      },
      "source": [
        "Once the dataset is loaded, the next step is to download the BERT model and preprocess the dataset according to BERT’s requirements."
      ]
    },
    {
      "cell_type": "code",
      "metadata": {
        "id": "VI-S_W1rBSRN",
        "colab": {
          "base_uri": "https://localhost:8080/",
          "height": 300
        },
        "outputId": "ac219c32-abfb-45df-824c-4dfb86f33df4"
      },
      "source": [
        "(x_train, y_train), (x_test, y_test), preproc = text.texts_from_folder(IMDB_DATADIR, maxlen=500, preprocess_mode=\"bert\",\n",
        "                                                                       train_test_names=[\"train\", \"test\"],\n",
        "                                                                       classes=[\"pos\", \"neg\"])"
      ],
      "execution_count": 8,
      "outputs": [
        {
          "output_type": "stream",
          "text": [
            "detected encoding: utf-8\n",
            "downloading pretrained BERT model (uncased_L-12_H-768_A-12.zip)...\n",
            "[██████████████████████████████████████████████████]\n",
            "extracting pretrained BERT model...\n",
            "done.\n",
            "\n",
            "cleanup downloaded zip...\n",
            "done.\n",
            "\n",
            "preprocessing train...\n",
            "language: en\n"
          ],
          "name": "stdout"
        },
        {
          "output_type": "display_data",
          "data": {
            "text/html": [
              "done."
            ],
            "text/plain": [
              "<IPython.core.display.HTML object>"
            ]
          },
          "metadata": {
            "tags": []
          }
        },
        {
          "output_type": "stream",
          "text": [
            "Is Multi-Label? False\n",
            "preprocessing test...\n",
            "language: en\n"
          ],
          "name": "stdout"
        },
        {
          "output_type": "display_data",
          "data": {
            "text/html": [
              "done."
            ],
            "text/plain": [
              "<IPython.core.display.HTML object>"
            ]
          },
          "metadata": {
            "tags": []
          }
        }
      ]
    },
    {
      "cell_type": "markdown",
      "metadata": {
        "id": "yLKkT0P7NBB5"
      },
      "source": [
        "##STEP 2: Loading a pre trained BERT and wrapping it in a ktrain.learner object"
      ]
    },
    {
      "cell_type": "markdown",
      "metadata": {
        "id": "SWHvgadrNCbz"
      },
      "source": [
        "The next step is to load the pre-trained BERT model and fine-tune it for this dataset.\r\n",
        "\r\n",
        "Next, we instantiate a Learner object and call the lr_find and lr_plot methods to help identify a good learning rate."
      ]
    },
    {
      "cell_type": "code",
      "metadata": {
        "id": "GHTWVhEwDGJE",
        "colab": {
          "base_uri": "https://localhost:8080/"
        },
        "outputId": "cf17685a-6796-4d72-8ce5-c514e22abae3"
      },
      "source": [
        "model = text.text_classifier(\"bert\", (x_train, y_train), preproc=preproc)\n",
        "learner = ktrain.get_learner(model, train_data=(x_train, y_train), val_data=(x_test, y_test), batch_size=6)"
      ],
      "execution_count": 9,
      "outputs": [
        {
          "output_type": "stream",
          "text": [
            "Is Multi-Label? False\n",
            "maxlen is 500\n",
            "done.\n"
          ],
          "name": "stdout"
        }
      ]
    },
    {
      "cell_type": "code",
      "metadata": {
        "id": "781Rpcr3KaqU",
        "colab": {
          "base_uri": "https://localhost:8080/"
        },
        "outputId": "4b059c1f-ac33-49e8-e6ff-00a80fec36b8"
      },
      "source": [
        "learner.lr_find()"
      ],
      "execution_count": 10,
      "outputs": [
        {
          "output_type": "stream",
          "text": [
            "simulating training for different learning rates... this may take a few moments...\n",
            "Epoch 1/1024\n",
            "4167/4167 [==============================] - 1850s 439ms/step - loss: nan - accuracy: 0.5626\n",
            "\n",
            "\n",
            "done.\n",
            "Please invoke the Learner.lr_plot() method to visually inspect the loss plot to help identify the maximal learning rate associated with falling loss.\n"
          ],
          "name": "stdout"
        }
      ]
    },
    {
      "cell_type": "code",
      "metadata": {
        "id": "SC6gAzxSKc1m",
        "colab": {
          "base_uri": "https://localhost:8080/",
          "height": 283
        },
        "outputId": "3d5dd3c5-8cef-4c9f-fba0-d9121c2c4445"
      },
      "source": [
        "learner.lr_plot()"
      ],
      "execution_count": 11,
      "outputs": [
        {
          "output_type": "display_data",
          "data": {
            "image/png": "[encoded data removed]",
            "text/plain": [
              "<Figure size 432x288 with 1 Axes>"
            ]
          },
          "metadata": {
            "tags": [],
            "needs_background": "light"
          }
        }
      ]
    },
    {
      "cell_type": "markdown",
      "metadata": {
        "id": "BQzLbVwEN2wy"
      },
      "source": [
        "## STEP 3: Training and Tuning the model's parameters"
      ]
    },
    {
      "cell_type": "markdown",
      "metadata": {
        "id": "iWqJvZuvN-YS"
      },
      "source": [
        "Now we will train a text classifier using the BERT pre-trained model."
      ]
    },
    {
      "cell_type": "code",
      "metadata": {
        "id": "W0HYy_oqDsEe",
        "outputId": "d74a1ff4-f94f-4908-82cc-a2b36f625aa5",
        "colab": {
          "base_uri": "https://localhost:8080/"
        }
      },
      "source": [
        "# 2e-5 is one of the LRs  recommended by Google and is consistent with the plot above.\r\n",
        "learner.fit_onecycle(2e-5, 4)"
      ],
      "execution_count": 12,
      "outputs": [
        {
          "output_type": "stream",
          "text": [
            "\n",
            "\n",
            "begin training using onecycle policy with max lr of 2e-05...\n",
            "Epoch 1/4\n",
            "4167/4167 [==============================] - 5467s 1s/step - loss: 0.2662 - accuracy: 0.8868 - val_loss: 0.1869 - val_accuracy: 0.9268\n",
            "Epoch 2/4\n",
            "4167/4167 [==============================] - 5462s 1s/step - loss: 0.1664 - accuracy: 0.9386 - val_loss: 0.1784 - val_accuracy: 0.9331\n",
            "Epoch 3/4\n",
            "4167/4167 [==============================] - 5463s 1s/step - loss: 0.0869 - accuracy: 0.9704 - val_loss: 0.2012 - val_accuracy: 0.9278\n",
            "Epoch 4/4\n",
            "4167/4167 [==============================] - 5464s 1s/step - loss: 0.0232 - accuracy: 0.9936 - val_loss: 0.2460 - val_accuracy: 0.9390\n"
          ],
          "name": "stdout"
        },
        {
          "output_type": "execute_result",
          "data": {
            "text/plain": [
              "<tensorflow.python.keras.callbacks.History at 0x7f179d702748>"
            ]
          },
          "metadata": {
            "tags": []
          },
          "execution_count": 12
        }
      ]
    },
    {
      "cell_type": "markdown",
      "metadata": {
        "id": "gOWfSSDgC0O4"
      },
      "source": [
        "**93.94% accuracy in a single epoch.**"
      ]
    },
    {
      "cell_type": "markdown",
      "metadata": {
        "id": "_rAp-PpPgGdH"
      },
      "source": [
        "## STEP-4: Making prediction on unseen data"
      ]
    },
    {
      "cell_type": "markdown",
      "metadata": {
        "id": "RBq0gKOrgUNx"
      },
      "source": [
        "Let's make some predictions on new data."
      ]
    },
    {
      "cell_type": "code",
      "metadata": {
        "id": "hSQ52PMQDJcT"
      },
      "source": [
        "predictor = ktrain.get_predictor(learner.model, preproc)"
      ],
      "execution_count": 13,
      "outputs": []
    },
    {
      "cell_type": "code",
      "metadata": {
        "id": "OlLHPI0vC43v"
      },
      "source": [
        "data = [\r\n",
        "    'This movie was horrible! The plot was boring. Acting was okay, though.',\r\n",
        "      'The film really sucked. I want my money back.',\r\n",
        "    'The plot had too many holes.',\r\n",
        "    'What a beautiful romantic comedy. 10/10 would see again!',\r\n",
        "]"
      ],
      "execution_count": 14,
      "outputs": []
    },
    {
      "cell_type": "code",
      "metadata": {
        "id": "2Is55dd8VLAQ",
        "outputId": "03cf588e-7db3-455b-db77-d27231691d48",
        "colab": {
          "base_uri": "https://localhost:8080/"
        }
      },
      "source": [
        "predictor.predict(data)"
      ],
      "execution_count": 15,
      "outputs": [
        {
          "output_type": "execute_result",
          "data": {
            "text/plain": [
              "['neg', 'neg', 'neg', 'pos']"
            ]
          },
          "metadata": {
            "tags": []
          },
          "execution_count": 15
        }
      ]
    },
    {
      "cell_type": "markdown",
      "metadata": {
        "id": "iS_-EgWZOvAT"
      },
      "source": [
        "We’ve seen several approaches to building text classification models so far. Unlike heuristics-based approaches where the predictions can be justified by tracing back the rules applied on the data sample, ML models are treated as a black box while making predictions. However, in the recent past, the topic of interpretable ML started to gain prominence, and programs that can “explain” an ML model’s predictions exist now."
      ]
    }
  ]
}