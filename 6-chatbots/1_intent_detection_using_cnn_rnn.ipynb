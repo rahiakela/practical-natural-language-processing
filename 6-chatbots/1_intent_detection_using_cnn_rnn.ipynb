{
  "nbformat": 4,
  "nbformat_minor": 0,
  "metadata": {
    "colab": {
      "name": "1-intent-detection-using-cnn-rnn.ipynb",
      "provenance": [],
      "authorship_tag": "ABX9TyPNouvWxNCfMX/Z7H84N17k",
      "include_colab_link": true
    },
    "kernelspec": {
      "name": "python3",
      "display_name": "Python 3"
    },
    "language_info": {
      "name": "python"
    }
  },
  "cells": [
    {
      "cell_type": "markdown",
      "metadata": {
        "id": "view-in-github",
        "colab_type": "text"
      },
      "source": [
        "<a href=\"https://colab.research.google.com/github/rahiakela/practical-natural-language-processing/blob/master/6-chatbots/1_intent_detection_using_cnn_rnn.ipynb\" target=\"_parent\"><img src=\"https://colab.research.google.com/assets/colab-badge.svg\" alt=\"Open In Colab\"/></a>"
      ]
    },
    {
      "cell_type": "markdown",
      "metadata": {
        "id": "-v9cyfyPOGPm"
      },
      "source": [
        "## Intent Detection using CNN, RNN"
      ]
    }
  ]
}