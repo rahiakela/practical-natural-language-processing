{
  "nbformat": 4,
  "nbformat_minor": 0,
  "metadata": {
    "colab": {
      "name": "5-named-entity-recognition-issues.ipynb",
      "provenance": [],
      "toc_visible": true,
      "authorship_tag": "ABX9TyP+CcZeosksGzX+ZfEMOoi/",
      "include_colab_link": true
    },
    "kernelspec": {
      "name": "python3",
      "display_name": "Python 3"
    },
    "accelerator": "GPU"
  },
  "cells": [
    {
      "cell_type": "markdown",
      "metadata": {
        "id": "view-in-github",
        "colab_type": "text"
      },
      "source": [
        "<a href=\"https://colab.research.google.com/github/rahiakela/practical-natural-language-processing/blob/chapter-5-information-extraction/5_named_entity_recognition_issues.ipynb\" target=\"_parent\"><img src=\"https://colab.research.google.com/assets/colab-badge.svg\" alt=\"Open In Colab\"/></a>"
      ]
    },
    {
      "cell_type": "markdown",
      "metadata": {
        "id": "2wkxG9WsGxOW"
      },
      "source": [
        "# Named Entity Recognition issues "
      ]
    },
    {
      "cell_type": "markdown",
      "metadata": {
        "id": "WimeNGEKHB5G"
      },
      "source": [
        "Consider a scenario where the user asks a search query—“Where was Albert Einstein born?”—using Google search.\r\n",
        "\r\n",
        "<img src='https://github.com/practical-nlp/practical-nlp-figures/raw/master/figures/5-5.png?raw=1' width='800'/>\r\n",
        "\r\n",
        "To be able to show “Ulm, Germany” for this query, the search engine needs to decipher that Albert Einstein is a person before going on to look for a place of birth. This is an example of NER in action in a real-world application.\r\n",
        "\r\n",
        "**NER refers to the IE task of identifying the entities in a document. Entities are typically names of persons, locations, and organizations, and other specialized strings, such as money expressions, dates, products, names/numbers of laws or articles, and so on. NER is an important step in the pipeline of several NLP applications involving information extraction.**\r\n",
        "\r\n",
        "<img src='https://github.com/practical-nlp/practical-nlp-figures/raw/master/figures/5-6.png?raw=1' width='800'/>\r\n",
        "\r\n",
        "As seen in the figure, for a given text, NER is expected to identify person names, locations, dates, and other entities. Different categories of entities identified here are some of the ones commonly used in NER system development.\r\n",
        "\r\n",
        "**NER is a prerequisite for being able to do other IE tasks, such as relation extraction or event extraction**.\r\n",
        "\r\n",
        "NER is also useful in other applications like machine translation, as names\r\n",
        "need not necessarily be translated while translating a sentence. So, clearly, there’s a range of scenarios in NLP projects where NER is a major component. It’s one of the common tasks you’re likely to encounter in NLP projects in industry."
      ]
    },
    {
      "cell_type": "markdown",
      "metadata": {
        "id": "pOSKkHvBIxVc"
      },
      "source": [
        "## Building an NER System"
      ]
    },
    {
      "cell_type": "markdown",
      "metadata": {
        "id": "t3-nEGIwIyXT"
      },
      "source": [
        "A simple approach to building an NER system is to maintain a large collection of person/ organization/location names that are the most relevant to our company (e.g., names of all clients, cities in their addresses, etc.); this is typically referred to as a gazetteer. To check whether a given word is a named entity or not, just do a lookup in the gazetteer. If a large number of entities present in our data are covered by a gazetteer, then it’s a great way to start, especially when we don’t have an existing NER system available.\r\n",
        "\r\n",
        "An approach that goes beyond a lookup table is rule-based NER, which can be based on a compiled list of patterns based on word tokens and POS tags.\r\n",
        "\r\n",
        "For example, a pattern “NNP was born,” where “NNP” is the POS tag for a proper noun, indicates that the word that was tagged “NNP” refers to a person. Such rules can be programmed to cover as many cases as possible to build a rule-based NER system. \r\n",
        "\r\n",
        "1. **[Stanford NLP’s RegexNER](https://nlp.stanford.edu/software/regexner.html)**\r\n",
        "2. **[spaCy’s EntityRuler](https://spacy.io/usage/rule-based-matching#entityruler)**\r\n",
        "\r\n",
        "provide functionalities to implement your own rule-based NER.\r\n",
        "\r\n",
        "A more practical approach to NER is to train an ML model, which can predict the\r\n",
        "named entities in unseen text. For each word, a decision has to be made whether or not that word is an entity, and if it is, what type of the entity it is. In many ways, this is very similar to the classification problems.\r\n",
        "\r\n",
        "**The only difference here is that NER is a “sequence labeling” problem.**\r\n",
        "\r\n",
        "The typical classifiers predict labels for texts independent of their surrounding context. Consider a classifier that classifies sentences in a movie review into positive/negative/neutral categories based on their sentiment. This classifier does not (usually) take into account the sentiment of previous (or subsequent) sentences when classifying the current sentence.\r\n",
        "\r\n",
        "**In a sequence classifier, such context is important. A common use case for sequence labeling is POS tagging, where we need information about the parts of speech of surrounding words to estimate the part of speech of the current word. NER is traditionally modeled as a sequence classification problem, where the entity prediction for the current word also depends on the context.**\r\n",
        "\r\n",
        "For example, if the previous word was a person name, there’s a higher probability that the current word is also a person name if it’s a noun (e.g., first and last names).\r\n",
        "\r\n",
        "To illustrate the difference between a normal classifier and a sequence classifier, consider the following sentence: “Washington is a rainy state.” When a normal classifier sees this sentence and has to classify it word by word, it has to make a decision as to whether Washington refers to a person (e.g., George Washington) or the State of Washington without looking at the surrounding words. It’s possible to classify the word “Washington” in this particular sentence as a location only after looking at the context in which it’s being used. It’s for this reason that sequence classifiers are used\r\n",
        "for training NER models.\r\n",
        "\r\n",
        "**Conditional random fields (CRFs) is one of the popular sequence classifier training algorithms.**\r\n",
        "\r\n",
        "Recent advances in NER research either exclude or augment the kind of feature engineering we did in this example with neural network models. [NCRF++](https://github.com/jiesutd/NCRFpp) is another library that can be used to train your own NER using different neural network architectures. \r\n",
        "\r\n",
        "In this notebook, we will take a look at using spaCy commandline to train and evaluate a NER model. We will also compare it with the pretrained NER model in spacy.\r\n",
        "\r\n",
        "Note: we will create multiple folders during this experiment: spacyNER_data\r\n"
      ]
    },
    {
      "cell_type": "markdown",
      "metadata": {
        "id": "po6Tg7YqcKMA"
      },
      "source": [
        "## Practical Advice"
      ]
    },
    {
      "cell_type": "markdown",
      "metadata": {
        "id": "AC-azFzEcMLd"
      },
      "source": [
        "Despite the fact that state-of-the-art NER is highly accurate (with F1 scores over 90% using standard evaluation frameworks for NER in NLP research), there are several issues to keep in mind when using NER in our own software applications. Here are a couple caveats based on our own experience with developing NER systems:\r\n",
        "\r\n",
        "- NER is very sensitive to the format of its input. It’s more accurate with wellformatted plain text than with, say, a PDF document from which plain text needs to be extracted first. While it’s possible to build custom NER systems for specific domains or for data like tweets, the challenge with PDFs comes from the failure to be 100% accurate in extracting text from them while preserving the structure. it illustrates some of the challenges with PDF-to-text extraction. Why do we need to be so accurate in properly extracting the structure from PDFs, though? In PDFs, partial sentences, headings, and formatting are common, and they can all mess up NER accuracy. There’s no single solution for this. One approach is to do custom post-processing of PDFs to extract blobs of text, then run NER on the blobs.\r\n",
        "\r\n",
        "- NER is also very sensitive to the accuracy of the prior steps in its processing pipeline: sentence splitting, tokenization, and POS tagging.To understand how improper sentence splitting can result in poor NER results and looking at the output from spaCy.So, some amount of pre-processing may be necessary before passing a piece of text into an NER model to extract entities."
      ]
    },
    {
      "cell_type": "code",
      "metadata": {
        "id": "w8YOag-bzJq8"
      },
      "source": [
        "!python -m spacy download en_core_web_lg"
      ],
      "execution_count": null,
      "outputs": []
    },
    {
      "cell_type": "code",
      "metadata": {
        "id": "7J1aa_TlRRFg"
      },
      "source": [
        "import spacy\r\n",
        "\r\n",
        "nlp = spacy.load(\"en_core_web_sm\")"
      ],
      "execution_count": 4,
      "outputs": []
    },
    {
      "cell_type": "code",
      "metadata": {
        "id": "86VDlSOYSQlX",
        "colab": {
          "base_uri": "https://localhost:8080/"
        },
        "outputId": "48c18933-5636-42da-c12c-e68caea1dc4a"
      },
      "source": [
        "mytext = \"\"\"\r\n",
        "SAN FRANCISCO — Shortly after Apple used a new tax law last year to bring back most of the $252 billion it had held abroad, the company said it would buy back $100 billion of its stock.\r\n",
        "\r\n",
        "On Tuesday, Apple announced its plans for another major chunk of the money: It will buy back a further $75 billion in stock.\r\n",
        "\r\n",
        "“Our first priority is always looking after the business and making sure we continue to grow and invest,” Luca Maestri, Apple’s finance chief, said in an interview. “If there is excess cash, then obviously we want to return it to investors.”\r\n",
        "\r\n",
        "Apple’s record buybacks should be welcome news to shareholders, as the stock price is likely to climb. But the buybacks could also expose the company to more criticism that the tax cuts it received have mostly benefited investors and executives.\r\n",
        "\"\"\"\r\n",
        "\r\n",
        "doc = nlp(mytext)\r\n",
        "for ent in doc.ents:\r\n",
        "  print(ent.text, \"\\t\", ent.label_)"
      ],
      "execution_count": 5,
      "outputs": [
        {
          "output_type": "stream",
          "text": [
            "SAN FRANCISCO \t GPE\n",
            "Apple \t ORG\n",
            "last year \t DATE\n",
            "$252 billion \t MONEY\n",
            "$100 billion \t MONEY\n",
            "Tuesday \t DATE\n",
            "Apple \t ORG\n",
            "$75 billion \t MONEY\n",
            "first \t ORDINAL\n",
            "Luca Maestri \t PERSON\n",
            "Apple \t ORG\n",
            "Apple \t ORG\n"
          ],
          "name": "stdout"
        }
      ]
    },
    {
      "cell_type": "code",
      "metadata": {
        "id": "zW2MfkxRXjSZ",
        "colab": {
          "base_uri": "https://localhost:8080/"
        },
        "outputId": "115c7e14-d090-48f6-e80a-37df9356fd95"
      },
      "source": [
        "# We see 6 sentences as humans in this text. How many does Spacy see? \r\n",
        "count = 0\r\n",
        "\r\n",
        "for sent in doc.sents:\r\n",
        "  print(sent.text)\r\n",
        "  print(\"***End of sent****\")\r\n",
        "  count = count + 1\r\n",
        "\r\n",
        "print(\"Total sentences: \", count)"
      ],
      "execution_count": 6,
      "outputs": [
        {
          "output_type": "stream",
          "text": [
            "\n",
            "SAN FRANCISCO —\n",
            "***End of sent****\n",
            "Shortly after Apple used a new tax law last year to bring back most of the $252 billion it had held abroad, the company said it would buy back $100 billion of its stock.\n",
            "\n",
            "\n",
            "***End of sent****\n",
            "On Tuesday, Apple announced its plans for another major chunk of the money: It will buy back a further $75 billion in stock.\n",
            "\n",
            "\n",
            "***End of sent****\n",
            "“Our first priority is always looking after the business and making sure we continue to grow and invest,” Luca Maestri, Apple’s finance chief, said in an interview.\n",
            "***End of sent****\n",
            "“If there is excess cash, then obviously we want to return it to investors.”\n",
            "\n",
            "\n",
            "***End of sent****\n",
            "Apple’s record buybacks should be welcome news to shareholders, as the stock price is likely to climb.\n",
            "***End of sent****\n",
            "But the buybacks could also expose the company to more criticism that the tax cuts it received have mostly benefited investors and executives.\n",
            "\n",
            "***End of sent****\n",
            "Total sentences:  7\n"
          ],
          "name": "stdout"
        }
      ]
    },
    {
      "cell_type": "markdown",
      "metadata": {
        "id": "qvT2iaErYE4L"
      },
      "source": [
        "Despite such shortcomings, NER is immensely useful for many IE scenarios, such as content tagging, search, and mining social media to identify customer feedback about specific products, to name a few.\r\n",
        "\r\n",
        "While NER (and KPE) serve the useful task of identifying important words, phrases, and entities in documents, some NLP applications require further analysis of language, which leads us to more advanced NLP tasks."
      ]
    }
  ]
}