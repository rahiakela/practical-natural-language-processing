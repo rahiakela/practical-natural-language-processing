{
  "nbformat": 4,
  "nbformat_minor": 0,
  "metadata": {
    "colab": {
      "name": "6-named-entity-disambiguation-and-linking.ipynb",
      "provenance": [],
      "authorship_tag": "ABX9TyMhwWUfDGAfJDLZQ3ATFqVs",
      "include_colab_link": true
    },
    "kernelspec": {
      "name": "python3",
      "display_name": "Python 3"
    }
  },
  "cells": [
    {
      "cell_type": "markdown",
      "metadata": {
        "id": "view-in-github",
        "colab_type": "text"
      },
      "source": [
        "<a href=\"https://colab.research.google.com/github/rahiakela/practical-natural-language-processing/blob/chapter-5-information-extraction/6_named_entity_disambiguation_and_linking.ipynb\" target=\"_parent\"><img src=\"https://colab.research.google.com/assets/colab-badge.svg\" alt=\"Open In Colab\"/></a>"
      ]
    },
    {
      "cell_type": "markdown",
      "metadata": {
        "id": "kNr7Yqdjj9Sa"
      },
      "source": [
        "# Named Entity Disambiguation and Linking"
      ]
    },
    {
      "cell_type": "markdown",
      "metadata": {
        "id": "X1XY9mdfj-SP"
      },
      "source": [
        "Consider a scenario where we’re working on the data science team of a large newspaper publication (say, The New York Times). We’re charged with the task of building a system that creates visual representation of news stories by connecting different entities mentioned in the stories to what they refer to in the real world.\r\n",
        "\r\n"
      ]
    }
  ]
}