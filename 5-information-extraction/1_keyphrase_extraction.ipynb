{
  "nbformat": 4,
  "nbformat_minor": 0,
  "metadata": {
    "colab": {
      "name": "1-keyphrase-extraction.ipynb",
      "provenance": [],
      "authorship_tag": "ABX9TyPQE/F3YGuF6+bh3equ6KQe",
      "include_colab_link": true
    },
    "kernelspec": {
      "name": "python3",
      "display_name": "Python 3"
    }
  },
  "cells": [
    {
      "cell_type": "markdown",
      "metadata": {
        "id": "view-in-github",
        "colab_type": "text"
      },
      "source": [
        "<a href=\"https://colab.research.google.com/github/rahiakela/practical-natural-language-processing/blob/chapter-5-information-extraction/1_keyphrase_extraction.ipynb\" target=\"_parent\"><img src=\"https://colab.research.google.com/assets/colab-badge.svg\" alt=\"Open In Colab\"/></a>"
      ]
    },
    {
      "cell_type": "markdown",
      "metadata": {
        "id": "bZYsfmgGCTUC"
      },
      "source": [
        "# Keyphrase Extraction"
      ]
    },
    {
      "cell_type": "markdown",
      "metadata": {
        "id": "iIYDGnI0DDdl"
      },
      "source": [
        "Consider a scenario where we want to buy a product, which has a hundred reviews,\r\n",
        "on Amazon. There’s no way we’re going to read all of them to get an idea of what\r\n",
        "users think about the product. To facilitate this, Amazon has a filtering feature: “Read reviews that mention.” This presents a bunch of keywords or phrases that several people used in these reviews to filter the review. This is a good example of where KPE can be useful in an application we all use.\r\n",
        "\r\n",
        "<img src='https://github.com/practical-nlp/practical-nlp-figures/raw/master/figures/5-4.png?raw=1' width='800'/>\r\n",
        "\r\n",
        "Keyword and phrase extraction, as the name indicates, is the IE task concerned\r\n",
        "with extracting important words and phrases that capture the gist of the text from a given text document. It’s useful for several downstream NLP tasks, such as search/information retrieval, automatic document tagging, recommendation systems, text summarization, etc.\r\n",
        "\r\n",
        "KPE is a well-studied problem in the NLP community, and the two most commonly\r\n",
        "used methods to solve it are supervised learning and unsupervised learning.\r\n",
        "\r\n",
        "Supervised learning approaches require corpora with texts and their respective keyphrases and use engineered features or DL techniques. Creating such labeled datasets for KPE is a time- and cost-intensive endeavor. \r\n",
        "\r\n",
        "Hence, unsupervised approaches that do not require a labeled dataset and are largely domain agnostic are more popular for KPE. These approaches are also more commonly used in real-world KPE applications.\r\n",
        "\r\n",
        "Recent research has also shown that state-of-the-art DL methods for KPE don’t\r\n",
        "perform any better than unsupervised approaches.\r\n",
        "\r\n",
        "All the popular unsupervised KPE algorithms are based on the idea of representing the words and phrases in a text as nodes in a weighted graph where the weight indicates the importance of that keyphrase. Keyphrases are then identified based on how connected they are with the rest of the graph. The top-N important nodes from the graph are then returned as keyphrases. Important nodes are those words and phrases that are frequent enough and also well connected to different parts of the text.\r\n",
        "\r\n",
        "The different graph-based KPE approaches differ in the way they select potential words/phrases from the text (from a large set of possible words and phrases in the entire text) and the way these words/phrases are scored in the graph."
      ]
    },
    {
      "cell_type": "markdown",
      "metadata": {
        "id": "HmTChAZfFOM8"
      },
      "source": [
        "## Setup"
      ]
    },
    {
      "cell_type": "code",
      "metadata": {
        "id": "cOZiLlAWFP8m"
      },
      "source": [
        "%%shell\r\n",
        "\r\n",
        "#We need texacy, which inturn loads spacy library\r\n",
        "pip install textacy==0.9.1\r\n",
        "python -m spacy download en_core_web_sm"
      ],
      "execution_count": null,
      "outputs": []
    },
    {
      "cell_type": "code",
      "metadata": {
        "id": "RINIpUdSFYkz"
      },
      "source": [
        "import spacy\r\n",
        "import textacy.ke\r\n",
        "from textacy import *"
      ],
      "execution_count": 2,
      "outputs": []
    },
    {
      "cell_type": "markdown",
      "metadata": {
        "id": "oTCqnrmbF4uG"
      },
      "source": [
        "## Implementing KPE"
      ]
    },
    {
      "cell_type": "markdown",
      "metadata": {
        "id": "r5hwX_XsF5pv"
      },
      "source": [
        "The Python library [textacy](https://github.com/chartbeat-labs/textacy), built on top of the well-known library [spaCy](https://spacy.io/), contains implementations for some of the common graph-based keyword and phrase\r\n",
        "extraction algorithms.\r\n",
        "\r\n",
        "This notebook illustrates the use of textacy to extract keyphrases using two algorithms:\r\n",
        "\r\n",
        "1. [TextRank](https://web.eecs.umich.edu/~mihalcea/papers/mihalcea.emnlp04.pdf)\r\n",
        "2. [SGRank](https://www.aclweb.org/anthology/S15-1013/)\r\n",
        "\r\n",
        "We’ll use a text file that talks about the history of NLP as our test\r\n",
        "document.\r\n",
        "\r\n",
        "Let us use a sample text file, nlphistory.txt, which is the text from the history section of Wikipedia's page on Natural Language Processing \r\n",
        "https://en.wikipedia.org/wiki/Natural_language_processing"
      ]
    },
    {
      "cell_type": "code",
      "metadata": {
        "colab": {
          "base_uri": "https://localhost:8080/"
        },
        "id": "U1ZO5-_SH2Hx",
        "outputId": "0d5a24fc-38b2-4160-d703-589193e0db9e"
      },
      "source": [
        "!wget https://raw.githubusercontent.com/practical-nlp/practical-nlp/master/Ch5/Data/nlphistory.txt"
      ],
      "execution_count": 3,
      "outputs": [
        {
          "output_type": "stream",
          "text": [
            "--2020-12-11 09:32:37--  https://raw.githubusercontent.com/practical-nlp/practical-nlp/master/Ch5/Data/nlphistory.txt\n",
            "Resolving raw.githubusercontent.com (raw.githubusercontent.com)... 151.101.0.133, 151.101.64.133, 151.101.128.133, ...\n",
            "Connecting to raw.githubusercontent.com (raw.githubusercontent.com)|151.101.0.133|:443... connected.\n",
            "HTTP request sent, awaiting response... 200 OK\n",
            "Length: 6049 (5.9K) [text/plain]\n",
            "Saving to: ‘nlphistory.txt’\n",
            "\n",
            "\rnlphistory.txt        0%[                    ]       0  --.-KB/s               \rnlphistory.txt      100%[===================>]   5.91K  --.-KB/s    in 0s      \n",
            "\n",
            "2020-12-11 09:32:37 (70.2 MB/s) - ‘nlphistory.txt’ saved [6049/6049]\n",
            "\n"
          ],
          "name": "stdout"
        }
      ]
    },
    {
      "cell_type": "code",
      "metadata": {
        "id": "S7zEH_ixJSKq"
      },
      "source": [
        "# Load a spacy model, which will be used for all further processing.\r\n",
        "en = textacy.load_spacy_lang(\"en_core_web_sm\")\r\n",
        "\r\n",
        "mytext = open(\"nlphistory.txt\").read()\r\n",
        "\r\n",
        "# convert the text into a spacy document.\r\n",
        "doc = textacy.make_spacy_doc(mytext, lang=en)"
      ],
      "execution_count": 4,
      "outputs": []
    },
    {
      "cell_type": "code",
      "metadata": {
        "colab": {
          "base_uri": "https://localhost:8080/"
        },
        "id": "0luUYWHwKU5p",
        "outputId": "99750ea6-35d4-41be-ac26-1ea813b8f1a0"
      },
      "source": [
        "textacy.ke.textrank(doc, topn=5)"
      ],
      "execution_count": 5,
      "outputs": [
        {
          "output_type": "execute_result",
          "data": {
            "text/plain": [
              "[('successful natural language processing system', 0.02475549496438359),\n",
              " ('statistical machine translation system', 0.024648673368376665),\n",
              " ('natural language system', 0.020518708001159278),\n",
              " ('statistical natural language processing', 0.01858983530270439),\n",
              " ('natural language task', 0.01579726776487791)]"
            ]
          },
          "metadata": {
            "tags": []
          },
          "execution_count": 5
        }
      ]
    },
    {
      "cell_type": "code",
      "metadata": {
        "colab": {
          "base_uri": "https://localhost:8080/"
        },
        "id": "eE2vGh-jKbdO",
        "outputId": "e78d1173-aa28-4839-914f-ed6163d2e14b"
      },
      "source": [
        "# Print the keywords using TextRank algorithm, as implemented in Textacy.\r\n",
        "print(\"Textrank output: \", [kps for kps, weights in textacy.ke.textrank(doc, normalize=\"lemma\", topn=5)])\r\n",
        "\r\n",
        "# Print the key words and phrases, using SGRank algorithm, as implemented in Textacy\r\n",
        "print(\"SGRank output: \", [kps for kps, weights in textacy.ke.sgrank(doc, topn=5)])"
      ],
      "execution_count": 6,
      "outputs": [
        {
          "output_type": "stream",
          "text": [
            "Textrank output:  ['successful natural language processing system', 'statistical machine translation system', 'natural language system', 'statistical natural language processing', 'natural language task']\n",
            "SGRank output:  ['natural language processing system', 'statistical machine translation', 'research', 'late 1980', 'early']\n"
          ],
          "name": "stdout"
        }
      ]
    },
    {
      "cell_type": "code",
      "metadata": {
        "colab": {
          "base_uri": "https://localhost:8080/"
        },
        "id": "se6dgo05LOFw",
        "outputId": "c8928908-8e4d-47a2-d89c-59889a1eff93"
      },
      "source": [
        "#To address the issue of overlapping key phrases, textacy has a function: aggregage_term_variants.\r\n",
        "#Choosing one of the grouped terms per item will give us a list of non-overlapping key phrases!\r\n",
        "terms = set(term for term, weight in textacy.ke.sgrank(doc))\r\n",
        "print(textacy.ke.utils.aggregate_term_variants(terms))"
      ],
      "execution_count": 7,
      "outputs": [
        {
          "output_type": "stream",
          "text": [
            "[{'natural language processing system'}, {'statistical machine translation'}, {'statistical model'}, {'late 1980'}, {'research'}, {'example'}, {'world'}, {'early'}, {'ELIZA'}, {'real'}]\n"
          ],
          "name": "stdout"
        }
      ]
    },
    {
      "cell_type": "code",
      "metadata": {
        "colab": {
          "base_uri": "https://localhost:8080/"
        },
        "id": "PDZkhy_WL-LX",
        "outputId": "701940a9-17e9-478e-81e7-85f8886374c7"
      },
      "source": [
        "#A way to look at key phrases is just consider all noun chunks as potential ones. \r\n",
        "#However, keep in mind this will result in a lot of phrases, and no way to rank them!\r\n",
        "print([chunk for chunk in textacy.extract.noun_chunks(doc)])"
      ],
      "execution_count": 8,
      "outputs": [
        {
          "output_type": "stream",
          "text": [
            "[history, natural language processing, 1950s, work, earlier periods, Alan Turing, article, what, criterion, intelligence, Georgetown experiment, fully automatic translation, more than sixty Russian sentences, English, authors, three or five years, machine translation, real progress, ALPAC report, ten-year-long research, expectations, machine translation, Little further research, machine translation, late 1980s, first statistical machine translation systems, notably successful natural language processing systems, SHRDLU, natural language system, restricted \"blocks worlds, restricted vocabularies, ELIZA, simulation, Rogerian psychotherapist, Joseph Weizenbaum, almost no information, human thought, emotion, ELIZA, startlingly human-like interaction, \"patient, very small knowledge base, ELIZA, generic response, example, head, you, head, 1970s, many programmers, \"conceptual ontologies, real-world information, computer-understandable data, Examples, MARGIE, Schank, Cullingford, (Wilensky, Lehnert, (Carbonell, Lehnert, time, many chatterbots, PARRY, Racter, Jabberwacky, 1980s, most natural language processing systems, complex sets, hand-written rules, late 1980s, revolution, natural language processing, introduction, algorithms, language processing, both the steady increase, computational power, Moore's law, dominance, Chomskyan theories, linguistics, (e.g. transformational grammar, theoretical underpinnings, sort, corpus linguistics, machine-learning approach, language processing.[3, earliest-used machine learning algorithms, decision trees, produced systems, if-then rules, existing hand-written rules, speech, use, hidden Markov models, natural language processing, research, statistical models, soft, probabilistic decisions, real-valued weights, features, input data, cache language models, many speech recognition systems, examples, such statistical models, Such models, unfamiliar input, errors, real-world data, more reliable results, larger system, multiple subtasks, notable early successes, field, machine translation, IBM Research, successively more complicated statistical models, systems, advantage, existing multilingual textual corpora, Parliament, Canada, European Union, result, laws, translation, governmental proceedings, official languages, corresponding systems, government, most other systems, corpora, tasks, systems, major limitation, success, systems, result, great deal, research, methods, limited amounts, data, Recent research, unsupervised and semi-supervised learning algorithms, Such algorithms, data, desired answers, combination, annotated and non-annotated data, task, supervised learning, less accurate results, given amount, input data, enormous amount, non-annotated data, other things, entire content, World Wide Web, inferior results, algorithm, low enough time complexity, 2010s, representation learning, deep neural network-style machine learning methods, natural language processing, part, flurry, results, such techniques[4][5, -art, many natural language tasks, example, language, modeling,[6] parsing,[7][8, many others, Popular techniques, use, word embeddings, semantic properties, words, increase, end, higher-level task, (e.g., question answering, pipeline, separate intermediate tasks, speech, dependency parsing, areas, shift, substantial changes, NLP systems, deep neural network-based approaches, statistical natural language processing, instance, term neural machine translation, NMT, fact, that deep learning-based approaches, machine translation, sequence, need, intermediate steps, word alignment, language modeling, statistical machine translation, SMT]\n"
          ],
          "name": "stdout"
        }
      ]
    },
    {
      "cell_type": "markdown",
      "metadata": {
        "id": "BGzPChquMW2E"
      },
      "source": [
        "There are numerous options for how long our n-grams should be in these phrases;\r\n",
        "what POS tags should be considered or ignored; what pre-processing should be done a priori; how to eliminate overlapping n-grams, such as statistical machine translation and machine translation in the above example; and so on.\r\n",
        "\r\n",
        "We showed one example of implementing KPE with textacy. There are other options,\r\n",
        "though. For example, the Python library gensim has a keyword extractor based on\r\n",
        "TextRank. [This notebook](https://github.com/JRC1995/TextRank-Keyword-Extraction/blob/master/TextRank.ipynb) shows how to implement TextRank from scratch.\r\n",
        "\r\n",
        "Documentation: https://chartbeat-labs.github.io/textacy/build/html/index.html"
      ]
    }
  ]
}