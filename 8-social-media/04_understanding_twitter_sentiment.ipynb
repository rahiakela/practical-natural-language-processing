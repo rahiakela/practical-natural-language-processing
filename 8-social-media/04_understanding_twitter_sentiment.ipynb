{
  "nbformat": 4,
  "nbformat_minor": 0,
  "metadata": {
    "colab": {
      "name": "04-understanding-twitter-sentiment.ipynb",
      "provenance": [],
      "toc_visible": true,
      "authorship_tag": "ABX9TyO8GCfa5EpKZeNxpaFHQnpc",
      "include_colab_link": true
    },
    "kernelspec": {
      "name": "python3",
      "display_name": "Python 3"
    },
    "language_info": {
      "name": "python"
    }
  },
  "cells": [
    {
      "cell_type": "markdown",
      "metadata": {
        "id": "view-in-github",
        "colab_type": "text"
      },
      "source": [
        "<a href=\"https://colab.research.google.com/github/rahiakela/practical-natural-language-processing/blob/master/8-social-media/04_understanding_twitter_sentiment.ipynb\" target=\"_parent\"><img src=\"https://colab.research.google.com/assets/colab-badge.svg\" alt=\"Open In Colab\"/></a>"
      ]
    },
    {
      "cell_type": "markdown",
      "metadata": {
        "id": "0hCF7agtoE8P"
      },
      "source": [
        "##Understanding Twitter Sentiment"
      ]
    },
    {
      "cell_type": "markdown",
      "metadata": {
        "id": "LRl-zgiuoF0x"
      },
      "source": [
        "When it comes to NLP and social media, one of the most popular applications has to be sentiment analysis. For businesses and brands across the globe, it’s crucial to listen to what people are saying about them and their products and services. It’s even more important to know whether people’s opinion is positive or negative and if this sentiment polarity is changing over time. \n",
        "\n",
        "In the pre-social era, this was done using customer surveys, including door-to-door visits. In today’s world, social media is a great way to understand people’s sentiment about a brand. Even more important is how\n",
        "this sentiment changes over time.\n",
        "\n",
        "<img src='https://github.com/rahiakela/img-repo/blob/master/practical-nlp/8-10.png?raw=1' width='800'/>\n",
        "\n",
        "In this notebook, we’ll focus on building sentiment analysis for Twitter data using a dataset from the public domain.\n",
        "\n",
        "How is sentiment analysis for Twitter different from the sentiment analysis models? The key difference lies in the dataset.On the other hand, the data in the Twitter sentiment corpus consists of tweets written informally.\n",
        "\n",
        "This leads to the various issues.These issues, in turn, impact the performance of the model.\n",
        "\n",
        "We’ll move forward by building a system for sentiment analysis and setting up a baseline. For this, we’ll use TextBlob, which is a Python-based NLP toolkit built on top of NLTK and Pattern. It comes with an array of modules for text processing, text mining, and text analysis. All it takes is five lines of code to get a basic sentiment classifier."
      ]
    },
    {
      "cell_type": "markdown",
      "metadata": {
        "id": "4Koas9IUrKID"
      },
      "source": [
        "##Setup"
      ]
    },
    {
      "cell_type": "code",
      "metadata": {
        "id": "WV04PbCRrLhh"
      },
      "source": [
        "import pandas as pd\n",
        "from textblob import TextBlob"
      ],
      "execution_count": null,
      "outputs": []
    },
    {
      "cell_type": "code",
      "metadata": {
        "id": "-oc8h3JSrL0D"
      },
      "source": [
        "!wget -q https://raw.githubusercontent.com/rahiakela/practical-natural-language-processing/master/8-social-media/data/sts_gold_tweet.csv"
      ],
      "execution_count": null,
      "outputs": []
    },
    {
      "cell_type": "markdown",
      "metadata": {
        "id": "TnC9SghDrZGm"
      },
      "source": [
        "## loading the dataset"
      ]
    },
    {
      "cell_type": "code",
      "metadata": {
        "id": "nnIswCm9rema"
      },
      "source": [
        "df = pd.read_csv(\"sts_gold_tweet.csv\",error_bad_lines=False,delimiter=\";\")\n",
        "df.head()"
      ],
      "execution_count": null,
      "outputs": []
    },
    {
      "cell_type": "code",
      "metadata": {
        "id": "ww0V50f4sMZc"
      },
      "source": [
        "print(df.columns)"
      ],
      "execution_count": null,
      "outputs": []
    },
    {
      "cell_type": "markdown",
      "metadata": {
        "id": "kGwNTNBTuHj4"
      },
      "source": [
        "## Defining the baseline"
      ]
    },
    {
      "cell_type": "code",
      "metadata": {
        "id": "V__VpDTxsJ0V"
      },
      "source": [
        "# make a list of all the tweets\n",
        "tweets_text_collection = list(df[\"tweet\"])"
      ],
      "execution_count": null,
      "outputs": []
    },
    {
      "cell_type": "code",
      "metadata": {
        "id": "c6Pa_OS5saXw"
      },
      "source": [
        "for tweet_text in tweets_text_collection:\n",
        "  print(tweet_text)\n",
        "  analysis = TextBlob(tweet_text) \n",
        "  print(analysis.sentiment)   # analyse the sentitment\n",
        "  '''\n",
        "  Polarity is a value between [-1.0, 1.0] and tells how positive or negative the text is. \n",
        "  Subjectivity is within the range [0.0, 1.0] where 0.0 is very objective and 1.0 is very subjective.\n",
        "  '''\n",
        "  print(\"-\"*20)"
      ],
      "execution_count": null,
      "outputs": []
    },
    {
      "cell_type": "markdown",
      "metadata": {
        "id": "DwOuY1KGsIzh"
      },
      "source": [
        "It uses a simple idea: tokenize the tweet and compute polarity and subjectivity for each of the tokens. Then combine the polarity and subjectivity numbers to arrive at a single value for the whole sentence. We leave it to the reader to get into the finer details. This simple sentiment classifier might not work well, primarily because of the tokenizer used by TextBlob. Our data comes from social media, so it will most likely not follow formal English. Thus, after tokenization, many of the tokens may not be standard words found in the English dictionary, so we won’t have the polarity and subjectivity for all such tokens.\n",
        "\n",
        "Say we’ve been asked to improve our classifier. We can try various techniques and algorithms.However, we might not see a great improvement\n",
        "in performance because of the noise present in the data.Thus, the key to improving the system lies in better cleaning and pre-processing of the text data. This is crucial for SMTD.\n",
        "\n",
        "**Pre-processing and data cleaning are crucial when working with SMTD. This step is likely to provide the most gains in model performance.**"
      ]
    }
  ]
}