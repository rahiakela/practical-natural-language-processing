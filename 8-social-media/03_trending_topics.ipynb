{
  "nbformat": 4,
  "nbformat_minor": 0,
  "metadata": {
    "colab": {
      "name": "03-trending-topics.ipynb",
      "provenance": [],
      "authorship_tag": "ABX9TyM/kPu5eTxLwc2l/SnUbmy3",
      "include_colab_link": true
    },
    "kernelspec": {
      "name": "python3",
      "display_name": "Python 3"
    },
    "language_info": {
      "name": "python"
    }
  },
  "cells": [
    {
      "cell_type": "markdown",
      "metadata": {
        "id": "view-in-github",
        "colab_type": "text"
      },
      "source": [
        "<a href=\"https://colab.research.google.com/github/rahiakela/practical-natural-language-processing/blob/master/8-social-media/03_trending_topics.ipynb\" target=\"_parent\"><img src=\"https://colab.research.google.com/assets/colab-badge.svg\" alt=\"Open In Colab\"/></a>"
      ]
    },
    {
      "cell_type": "markdown",
      "metadata": {
        "id": "6xxjerKaUCmC"
      },
      "source": [
        "## Trending Topics"
      ]
    },
    {
      "cell_type": "markdown",
      "metadata": {
        "id": "F5G0DdPoUDk5"
      },
      "source": [
        "Just a couple of years ago, keeping yourself updated with the latest topics was pretty straightforward—pick up the day’s newspaper, read through the headlines, and you’re done. Social media has changed this. Given the volume of traffic, what is trending can (and often does) change within a few hours. Keeping track of what’s trending by the hour may not be so important for an individual, but for a business entity, it can be very important.\n",
        "\n",
        "How can we keep track of trending topics? In the lingo of social media, any conversation around a topic is often associated with a hashtag. Thus, finding trending topics is all about finding the most popular hashtags in a given time window.\n",
        "\n",
        "<img src='https://github.com/practical-nlp/practical-nlp-figures/raw/master/figures/8-9.png?raw=1' width='800'/>\n",
        "\n",
        "So how do we implement a system that can collect trending topics? One of the simplest ways to do this is using a Python API called [Tweepy](https://www.tweepy.org/). Tweepy gives a simple function, trends_available, to fetch the trending topics. It takes the geolocation (WOEID, or Where On Earth Identifier) as an input and returns the trending topics in that geolocation. The function `trends_available` returns the top-10 trending topics for a given WOEID, on the condition that the trending information for the given WOEID is available. The response of this function call is an array of objects that are “trending.” In response, each object encodes the following information: name of the topic that’s trending, the corresponding query parameters that can be used to search\n",
        "for the topic using Twitter search, and the URL to Twitter search."
      ]
    },
    {
      "cell_type": "markdown",
      "metadata": {
        "id": "QHrZgebcWL7x"
      },
      "source": [
        "## Setup"
      ]
    },
    {
      "cell_type": "markdown",
      "metadata": {
        "id": "0AvOjbdSWUPN"
      },
      "source": [
        "Twitter Developer Account. If you dont have one, dont worry it is free to obtain all you need to do is visit this link and follow the setup process explained [here](https://cran.r-project.org/web/packages/rtweet/vignettes/auth.html)."
      ]
    },
    {
      "cell_type": "code",
      "metadata": {
        "id": "pgaivp5mWY2a"
      },
      "source": [
        "#setting all the credentials of your twitter developer account\n",
        "CONSUMER_KEY= 'insert your customer key'\n",
        "CONSUMER_SECRET= 'insert your customer secrect key'\n",
        "ACCESS_KEY= 'insert your access key here'\n",
        "ACCESS_SECRET= 'insert your access secret key here'\n",
        "\n",
        "CONSUMER_KEY= 'FuRcDMR2W2opaDAOPaJyu4HYM'\n",
        "CONSUMER_SECRET= '9Cu9lZTkh11jnWmUXh8DdWiKxdTryvCx3F59xci2E85bMxOU2Z'\n",
        "ACCESS_KEY= '296693551-6nNnFg1NQDoNKjTbfQcrz78qhjgmoejj1htqSqgD'\n",
        "ACCESS_SECRET= 'PdPQNDvaVUy6worvyak3h9vLSwbwbYkeoKWKK00mPxusK'"
      ],
      "execution_count": 1,
      "outputs": []
    },
    {
      "cell_type": "code",
      "metadata": {
        "id": "KpklHKkeY0aT"
      },
      "source": [
        "import tweepy, json"
      ],
      "execution_count": 2,
      "outputs": []
    },
    {
      "cell_type": "markdown",
      "metadata": {
        "id": "F6IJMBDpZDT4"
      },
      "source": [
        "## Granting access to twitter account"
      ]
    },
    {
      "cell_type": "code",
      "metadata": {
        "id": "MCWI_ZMqY4QN"
      },
      "source": [
        "# granting access to your twitter account\n",
        "auth = tweepy.OAuthHandler(CONSUMER_KEY, CONSUMER_SECRET)\n",
        "auth.set_access_token(ACCESS_KEY, ACCESS_SECRET)\n",
        "\n",
        "api = tweepy.API(auth)"
      ],
      "execution_count": 3,
      "outputs": []
    },
    {
      "cell_type": "markdown",
      "metadata": {
        "id": "8xKM83PMZrRR"
      },
      "source": [
        "## Fetching trending topics"
      ]
    },
    {
      "cell_type": "code",
      "metadata": {
        "colab": {
          "base_uri": "https://localhost:8080/"
        },
        "id": "0xhje0jiZqM_",
        "outputId": "0f1087d4-c1ed-4a21-ea32-f068f1e758d1"
      },
      "source": [
        "# A WOEID (Where On Earth IDentifier) is a unique 32-bit reference identifier\n",
        "# Where On Earth ID for the entire world is 1.\n",
        "# See https://dev.twitter.com/docs/api/1.1/get/trends/place and\n",
        "# http://developer.yahoo.com/geo/geoplanet/\n",
        "\n",
        "WORLD_WOE_ID =1\n",
        "BRAZIL_WOE_ID = 23424768\n",
        "\n",
        "# fetching trending topics in brazil\n",
        "brazil_trends = api.trends_place(BRAZIL_WOE_ID)\n",
        "trends = json.loads(json.dumps(brazil_trends, indent=1))\n",
        "\n",
        "brazil_trend_list = []\n",
        "for trend in trends[0][\"trends\"]:\n",
        "  brazil_trend_list.append(trend[\"name\"].strip(\"#\"))\n",
        "\n",
        "print(brazil_trend_list)"
      ],
      "execution_count": 5,
      "outputs": [
        {
          "output_type": "stream",
          "text": [
            "['Lakers', 'NCT127_Save', 'F1noBandSports', 'NCT127XAmoebaCulture', 'ForaTite', 'Lebron', 'Ortega', 'MY SUNSHINE', 'ButterSweeterCoolerRemixes', 'Booker', 'lary', 'Kuzma', '1 MÊS JULIETTE CAMPEÃ', 'Borges', 'TOP 3 Animes', 'Baku', 'Grave', 'jaden', 'RECKLESS OUT NOW', 'Ícaro', 'Madison', 'Davis', 'Krista', 'gabily', 'John Mayer', 'Kardashian', 'Kendall Jenner', 'lucas lima', '1- One Piece', 'Tarso', 'Marcia', 'Amelia', 'Frankie', 'Sarah Andrade', 'Scarpa', 'Jokic', 'Kyojin', 'Owen', 'Pimpolho', 'wesley gonzaga', 'Seleção Brasileira', 'Titan', 'Ravi', 'Tinashe', 'Death Note', 'ForaSarah', 'AzerbaijanGP', 'CriticalRoleSpoilers', 'DeFeriasCelebs', 'SextaDetremuraSDV']\n"
          ],
          "name": "stdout"
        }
      ]
    },
    {
      "cell_type": "code",
      "metadata": {
        "colab": {
          "base_uri": "https://localhost:8080/"
        },
        "id": "j19VoAw0bGM-",
        "outputId": "56a8aaea-da68-4b2b-8f55-240824cfe1dc"
      },
      "source": [
        "# fetching trending topics in the world\n",
        "world_trends = api.trends_place(WORLD_WOE_ID)\n",
        "world_trends_json = json.loads(json.dumps(world_trends, indent=1))\n",
        "\n",
        "world_trend_list = []\n",
        "for trend in world_trends_json[0][\"trends\"]:\n",
        "  world_trend_list.append(trend[\"name\"].strip(\"#\"))\n",
        "\n",
        "print(world_trend_list)"
      ],
      "execution_count": 6,
      "outputs": [
        {
          "output_type": "stream",
          "text": [
            "['NCT127XAmoebaCulture', 'HaklıydıkKazandık', '세이브_구하러_가보자고', '少クラ', 'Butter4thWin', 'Lakers', '個人PV', 'Lebron', '乃木坂46 27th', 'HELLO HELLO', 'TXT AT MUSIC BANK', 'ダイスマ', '性行為後', 'なにわちゃんMステ', 'スペオダ', '希望と勇気', '恐喝容疑', 'MV Teaser', '超絶イケメン', 'Special Order', 'Necati Şaşmaz', 'レディーファースト', '男前過ぎ', '性格イケメン度100', '性格ジャニーズ', '性格イケメン度78', 'Bad Bunny', 'محمد', 'ダイヤモンドスマイル', 'メ〜テレ', '胸キュン', 'ハロハロ', '刀剣男士', '名古屋テレビ', 'ユメノツボミ', '意地の張り合い', 'フタフタ', 'なにわMステ', 'Kuzma', '権力闘争', 'HAPPY BIRTHDAY SYKKUNO', 'Nの覚悟', 'Booker', '英傑大戦', 'FENERBAHÇE YIKILMAZ', 'メルセデス', 'Suns', 'YES!マーティン', 'モバイルくじ', 'アバンストラッシュ']\n"
          ],
          "name": "stdout"
        }
      ]
    },
    {
      "cell_type": "code",
      "metadata": {
        "colab": {
          "base_uri": "https://localhost:8080/"
        },
        "id": "j629C2H6caip",
        "outputId": "c7a2b17d-509c-4aae-c411-931c8f945f1b"
      },
      "source": [
        "# printing the topics which are trending in both WORLD and BRAZIL\n",
        "print(set(world_trend_list).intersection(set(brazil_trend_list)))"
      ],
      "execution_count": 7,
      "outputs": [
        {
          "output_type": "stream",
          "text": [
            "{'Booker', 'Kuzma', 'NCT127XAmoebaCulture', 'Lebron', 'Lakers'}\n"
          ],
          "name": "stdout"
        }
      ]
    },
    {
      "cell_type": "code",
      "metadata": {
        "colab": {
          "base_uri": "https://localhost:8080/"
        },
        "id": "9McVjWHJcqHA",
        "outputId": "e72aa0d8-8ab6-49b0-8b95-0ffc692008aa"
      },
      "source": [
        "WORLD_WOE_ID =1\n",
        "INDIA_WOE_ID = 23424848\n",
        "\n",
        "# fetching trending topics in India\n",
        "india_trends = api.trends_place(INDIA_WOE_ID)\n",
        "trends = json.loads(json.dumps(india_trends, indent=1))\n",
        "\n",
        "india_trend_list = []\n",
        "for trend in trends[0][\"trends\"]:\n",
        "  india_trend_list.append(trend[\"name\"].strip(\"#\"))\n",
        "\n",
        "print(india_trend_list)"
      ],
      "execution_count": 8,
      "outputs": [
        {
          "output_type": "stream",
          "text": [
            "['BlackMarketKingKejriwal', 'MedTwitterIsMad', 'PROBE MVA MINISTER 4 SSR', 'Salaar', 'KGFChapter2', 'SPBalasubrahmanyam', 'HUN JAAVAAN OUT NOW', 'goa manipal death trap', 'ALY HUMARI JAAN HAI', 'Relationship Status', 'MAN OF MASSES RAMCHARAN', '6 YEARS FOR BB RANNA', 'TXT AT MUSIC BANK', 'Daddy', '7 Years Of Disaster', 'Elon', 'CSIR', 'JAI CHARAN', 'SSLC', 'Liam Payne', 'Lakers', 'Wuhan Lab', 'Lebron', 'Punjab Govt', 'Amit Shah', 'Hong Kong', 'Fauci', 'Raghav', 'Joe Biden', 'BTSMeal', 'HappyBirthdayAngelinaJolie', 'NoCAA', 'Butter4thWin', 'NoMercyToAlyHaters', 'CovidLessons', 'ArnabGoswami', 'AzerbaijanGP', 'BaarishAur', 'BTSxMcD', 'happybirthdayspb', 'TheFamilyManSeason2', 'FridayMotivation', 'StopPrivatization', 'WorldEnvironmentDay', 'SpbLivesON', 'RBIPolicy', 'न्यूट्रिला_नेचुरल_न्यूट्रिशन', 'fridaymorning', 'KnowAboutSupremeGod', 'DissolveCentreOfExcellence']\n"
          ],
          "name": "stdout"
        }
      ]
    },
    {
      "cell_type": "code",
      "metadata": {
        "colab": {
          "base_uri": "https://localhost:8080/"
        },
        "id": "ABNMIaCHdCIk",
        "outputId": "689d6c2b-e757-4457-aaaf-c74a441a85b8"
      },
      "source": [
        "# printing the topics which are trending in both WORLD and INDIA\n",
        "print(set(world_trend_list).intersection(set(india_trend_list)))"
      ],
      "execution_count": 9,
      "outputs": [
        {
          "output_type": "stream",
          "text": [
            "{'Butter4thWin', 'TXT AT MUSIC BANK', 'Lakers', 'Lebron'}\n"
          ],
          "name": "stdout"
        }
      ]
    },
    {
      "cell_type": "markdown",
      "metadata": {
        "id": "cXQSOXrHdiCC"
      },
      "source": [
        "This small snippet of code will give us the live top trends for a given location. The only problem is that Tweepy is a free API, so it has rate limits. Twitter imposes rate limits on how many requests an application can make to any given API resource within a given time window—you can’t make thousands of requests.\n",
        "\n",
        "In case you need to make calls beyond the rate limits, look at [Gnip](https://developer.twitter.com/en/products/twitter-api/enterprise), a paid data hosepipe from Twitter."
      ]
    }
  ]
}